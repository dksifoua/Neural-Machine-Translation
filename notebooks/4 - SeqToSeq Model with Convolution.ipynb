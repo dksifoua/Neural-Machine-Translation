{
  "nbformat": 4,
  "nbformat_minor": 0,
  "metadata": {
    "colab": {
      "name": "4 - SeqToSeq Model with Convolution.ipynb",
      "provenance": [],
      "collapsed_sections": [],
      "authorship_tag": "ABX9TyOYXFFUK+4hq3O0xpCnZbIV",
      "include_colab_link": true
    },
    "kernelspec": {
      "name": "python3",
      "display_name": "Python 3"
    },
    "accelerator": "GPU"
  },
  "cells": [
    {
      "cell_type": "markdown",
      "metadata": {
        "id": "view-in-github",
        "colab_type": "text"
      },
      "source": [
        "<a href=\"https://colab.research.google.com/github/dksifoua/Neural-Machine-Translation/blob/master/4%20-%20SeqToSeq%20Model%20with%20Convolution.ipynb\" target=\"_parent\"><img src=\"https://colab.research.google.com/assets/colab-badge.svg\" alt=\"Open In Colab\"/></a>"
      ]
    },
    {
      "cell_type": "code",
      "metadata": {
        "id": "6vR3PDA6Vcj0",
        "outputId": "2004a20e-66ef-4b33-98d9-df7e431c6507",
        "colab": {
          "base_uri": "https://localhost:8080/",
          "height": 357
        }
      },
      "source": [
        "!nvidia-smi"
      ],
      "execution_count": null,
      "outputs": [
        {
          "output_type": "stream",
          "text": [
            "Sat Oct  3 21:15:49 2020       \n",
            "+-----------------------------------------------------------------------------+\n",
            "| NVIDIA-SMI 455.23.05    Driver Version: 418.67       CUDA Version: 10.1     |\n",
            "|-------------------------------+----------------------+----------------------+\n",
            "| GPU  Name        Persistence-M| Bus-Id        Disp.A | Volatile Uncorr. ECC |\n",
            "| Fan  Temp  Perf  Pwr:Usage/Cap|         Memory-Usage | GPU-Util  Compute M. |\n",
            "|                               |                      |               MIG M. |\n",
            "|===============================+======================+======================|\n",
            "|   0  Tesla P100-PCIE...  Off  | 00000000:00:04.0 Off |                    0 |\n",
            "| N/A   43C    P0    27W / 250W |      0MiB / 16280MiB |      0%      Default |\n",
            "|                               |                      |                 ERR! |\n",
            "+-------------------------------+----------------------+----------------------+\n",
            "                                                                               \n",
            "+-----------------------------------------------------------------------------+\n",
            "| Processes:                                                                  |\n",
            "|  GPU   GI   CI        PID   Type   Process name                  GPU Memory |\n",
            "|        ID   ID                                                   Usage      |\n",
            "|=============================================================================|\n",
            "|  No running processes found                                                 |\n",
            "+-----------------------------------------------------------------------------+\n"
          ],
          "name": "stdout"
        }
      ]
    },
    {
      "cell_type": "markdown",
      "metadata": {
        "id": "MeDxBPrqVkzC"
      },
      "source": [
        "## Load dependencies"
      ]
    },
    {
      "cell_type": "code",
      "metadata": {
        "id": "ZE8YJDCBVi0E"
      },
      "source": [
        "!pip install tqdm --upgrade >> /dev/null 2>&1\n",
        "!pip install torchtext --upgrade >> /dev/null 2>&1\n",
        "!pip install spacy --upgrade >> /dev/null 2>&1\n",
        "!python -m spacy download de >> /dev/null 2>&1\n",
        "!python -m spacy download en >> /dev/null 2>&1"
      ],
      "execution_count": null,
      "outputs": []
    },
    {
      "cell_type": "code",
      "metadata": {
        "id": "I2xhnp9dVmio"
      },
      "source": [
        "import tqdm\n",
        "import spacy\n",
        "import warnings\n",
        "import numpy as np\n",
        "import pandas as pd\n",
        "import matplotlib.pyplot as plt\n",
        "%matplotlib inline\n",
        "\n",
        "from IPython.core.display import display, HTML\n",
        "\n",
        "import torch\n",
        "import torch.nn as nn\n",
        "import torch.nn.functional as F\n",
        "import torch.optim as optim\n",
        "\n",
        "from torchtext.data import Dataset, Example, Field\n",
        "from torchtext.data.iterator import BucketIterator\n",
        "from torchtext.data.metrics import bleu_score\n",
        "from torchtext.datasets import Multi30k"
      ],
      "execution_count": null,
      "outputs": []
    },
    {
      "cell_type": "code",
      "metadata": {
        "id": "AI5pnH1PVoHN",
        "outputId": "b0d63527-10e5-4a82-8352-cf1f329fe6e0",
        "colab": {
          "base_uri": "https://localhost:8080/",
          "height": 34
        }
      },
      "source": [
        "!mkdir -p ./checkpoints\n",
        "\n",
        "warnings.simplefilter(action='ignore', category=UserWarning)\n",
        "warnings.simplefilter(action='ignore', category=FutureWarning)\n",
        "warnings.simplefilter(action='ignore', category=DeprecationWarning)\n",
        "\n",
        "SEED = 546\n",
        "np.random.seed(SEED)\n",
        "torch.manual_seed(SEED)\n",
        "torch.cuda.manual_seed(SEED)\n",
        "torch.backends.cudnn.deterministic = True\n",
        "\n",
        "DEVICE = torch.device('cuda' if torch.cuda.is_available() else 'cpu')\n",
        "print(f'Device: {DEVICE}')"
      ],
      "execution_count": null,
      "outputs": [
        {
          "output_type": "stream",
          "text": [
            "Device: cuda\n"
          ],
          "name": "stdout"
        }
      ]
    },
    {
      "cell_type": "markdown",
      "metadata": {
        "id": "k_sQ0fZVVrqO"
      },
      "source": [
        "## Load data"
      ]
    },
    {
      "cell_type": "code",
      "metadata": {
        "id": "a40v4y6wVqEN",
        "outputId": "08aa0420-6fc1-49f0-c39b-9b920de99400",
        "colab": {
          "base_uri": "https://localhost:8080/",
          "height": 241
        }
      },
      "source": [
        "%%time\n",
        "DE = Field(init_token='<sos>', eos_token='<eos>', lower=True, tokenize='spacy', tokenizer_language='de', batch_first=True)\n",
        "EN = Field(init_token='<sos>', eos_token='<eos>', lower=True, tokenize='spacy', tokenizer_language='en', batch_first=True)\n",
        "train_data, valid_data, test_data = Multi30k.splits(exts=('.de', '.en'),  fields=(DE, EN))\n",
        "print(f'train set size: {len(train_data.examples):,}')\n",
        "print(f'valid set size: {len(valid_data.examples):,}')\n",
        "print(f'test set size: {len(test_data.examples):,}')\n",
        "print(vars(train_data.examples[0]))"
      ],
      "execution_count": null,
      "outputs": [
        {
          "output_type": "stream",
          "text": [
            "\rtraining.tar.gz:   0%|          | 0.00/1.21M [00:00<?, ?B/s]"
          ],
          "name": "stderr"
        },
        {
          "output_type": "stream",
          "text": [
            "downloading training.tar.gz\n"
          ],
          "name": "stdout"
        },
        {
          "output_type": "stream",
          "text": [
            "training.tar.gz: 100%|██████████| 1.21M/1.21M [00:00<00:00, 6.76MB/s]\n",
            "validation.tar.gz: 100%|██████████| 46.3k/46.3k [00:00<00:00, 1.68MB/s]\n"
          ],
          "name": "stderr"
        },
        {
          "output_type": "stream",
          "text": [
            "downloading validation.tar.gz\n",
            "downloading mmt_task1_test2016.tar.gz\n"
          ],
          "name": "stdout"
        },
        {
          "output_type": "stream",
          "text": [
            "mmt_task1_test2016.tar.gz: 100%|██████████| 66.2k/66.2k [00:00<00:00, 1.71MB/s]\n"
          ],
          "name": "stderr"
        },
        {
          "output_type": "stream",
          "text": [
            "train set size: 29,000\n",
            "valid set size: 1,014\n",
            "test set size: 1,000\n",
            "{'src': ['zwei', 'junge', 'weiße', 'männer', 'sind', 'im', 'freien', 'in', 'der', 'nähe', 'vieler', 'büsche', '.'], 'trg': ['two', 'young', ',', 'white', 'males', 'are', 'outside', 'near', 'many', 'bushes', '.']}\n",
            "CPU times: user 7.84 s, sys: 247 ms, total: 8.09 s\n",
            "Wall time: 8.62 s\n"
          ],
          "name": "stdout"
        }
      ]
    },
    {
      "cell_type": "markdown",
      "metadata": {
        "id": "9b2sZMIZVw2u"
      },
      "source": [
        "## Build vocabularies"
      ]
    },
    {
      "cell_type": "code",
      "metadata": {
        "id": "VaUJhvLzVu5N",
        "outputId": "18c2e209-ecdc-40d6-b96c-fb4f9ebc5ac0",
        "colab": {
          "base_uri": "https://localhost:8080/",
          "height": 85
        }
      },
      "source": [
        "%%time\n",
        "MIN_COUNT = 2\n",
        "DE.build_vocab(train_data, min_freq=MIN_COUNT)\n",
        "EN.build_vocab(train_data, min_freq=MIN_COUNT)\n",
        "print(f'Length of DE vocabulary: {len(DE.vocab):,}')\n",
        "print(f'Length of EN vocabulary: {len(EN.vocab):,}')"
      ],
      "execution_count": null,
      "outputs": [
        {
          "output_type": "stream",
          "text": [
            "Length of DE vocabulary: 7,854\n",
            "Length of EN vocabulary: 5,893\n",
            "CPU times: user 338 ms, sys: 2.92 ms, total: 341 ms\n",
            "Wall time: 341 ms\n"
          ],
          "name": "stdout"
        }
      ]
    },
    {
      "cell_type": "markdown",
      "metadata": {
        "id": "Itenw8p2V1Dz"
      },
      "source": [
        "## Modeling\n",
        "\n",
        "***Encoder Layer***"
      ]
    },
    {
      "cell_type": "code",
      "metadata": {
        "id": "u4o3ZFFtVznm"
      },
      "source": [
        "class EncoderLayer(nn.Module):\n",
        "\n",
        "    def __init__(self, vocab_size, max_length, embedding_size, hidden_size, kernel_size, n_layers, scale, dropout):\n",
        "        super(EncoderLayer, self).__init__()\n",
        "        self.vocab_size = vocab_size\n",
        "        self.max_length = max_length\n",
        "        self.embedding_size = embedding_size\n",
        "        self.hidden_size = hidden_size\n",
        "        self.kernel_size = kernel_size\n",
        "        self.n_layers = n_layers\n",
        "        self.scale = scale\n",
        "        self.dropout = nn.Dropout(dropout)\n",
        "        self.token_embedding = nn.Embedding(vocab_size, embedding_size)\n",
        "        self.position_embedding = nn.Embedding(max_length, embedding_size)\n",
        "        self.fc_embedding_hidden = nn.Linear(embedding_size, hidden_size)\n",
        "        self.fc_hidden_embedding = nn.Linear(hidden_size, embedding_size)\n",
        "        self.conv1ds = nn.ModuleList([nn.Conv1d(hidden_size, hidden_size * 2, kernel_size=kernel_size,\n",
        "                                                padding=(kernel_size - 1) // 2) for _ in range(n_layers)])\n",
        "\n",
        "    def forward(self, input_sequences):\n",
        "        \"\"\"\n",
        "        :param Tensor[batch_size, src_len] input_sequences\n",
        "        :return Tensor[batch_size, src_len, embedding_size] embedded\n",
        "        :return Tensor[batch_size, src_len, embedding_size] conv_output\n",
        "        \"\"\"\n",
        "        positions = torch.arange(0, input_sequences.size(1)).unsqueeze(0).repeat(input_sequences.size(0), 1).to(input_sequences.device)\n",
        "        position_embedded = self.position_embedding(positions) # [batch_size, src_len, embedding_size]\n",
        "        token_embedded = self.token_embedding(input_sequences) # [batch_size, src_len, embedding_size]\n",
        "        embedded = self.dropout(position_embedded + token_embedded) # [batch_size, src_len, embedding_size]\n",
        "        conv_output = self.fc_embedding_hidden(embedded) # [batch_size, src_len, hidden_size]\n",
        "        conv_output = conv_output.permute(0, 2, 1) # [batch_size, hidden_size, src_len]\n",
        "        for conv1d in self.conv1ds:\n",
        "            conv_output = self.dropout(conv_output)\n",
        "            conved = conv1d(conv_output) # [batch_size, hidden_size * 2, src_len]\n",
        "            conved = F.glu(conved, dim=1) # [batch_size, hidden_size, src_len]\n",
        "            conv_output = (conved + conv_output) * self.scale # [batch_size, hidden_size, src_len] Residual connection\n",
        "        conv_output = conv_output.permute(0, 2, 1) # [batch_size, src_len, hidden_size]\n",
        "        conv_output = self.fc_hidden_embedding(conv_output) # [batch_size, src_len, embedding_size]\n",
        "        return embedded, conv_output"
      ],
      "execution_count": null,
      "outputs": []
    },
    {
      "cell_type": "markdown",
      "metadata": {
        "id": "koYI1l5uepzJ"
      },
      "source": [
        "***Decoder Layer***"
      ]
    },
    {
      "cell_type": "code",
      "metadata": {
        "id": "imZnrCj5eo6S"
      },
      "source": [
        "class DecoderLayer(nn.Module):\n",
        "\n",
        "    def __init__(self, vocab_size, max_length, embedding_size, hidden_size, kernel_size, n_layers, scale, dropout):\n",
        "        super(DecoderLayer, self).__init__()\n",
        "        self.vocab_size = vocab_size\n",
        "        self.max_length = max_length\n",
        "        self.embedding_size = embedding_size\n",
        "        self.hidden_size = hidden_size\n",
        "        self.kernel_size = kernel_size\n",
        "        self.n_layers = n_layers\n",
        "        self.scale = scale\n",
        "        self.dropout = nn.Dropout(dropout)\n",
        "        self.token_embedding = nn.Embedding(vocab_size, embedding_size)\n",
        "        self.position_embedding = nn.Embedding(max_length, embedding_size)\n",
        "        self.fc_embedding_hidden = nn.Linear(embedding_size, hidden_size)\n",
        "        self.fc_hidden_embedding = nn.Linear(hidden_size, embedding_size)\n",
        "        self.fc_embedding_hidden_attn = nn.Linear(embedding_size, hidden_size)\n",
        "        self.fc_hidden_embedding_attn = nn.Linear(hidden_size, embedding_size)\n",
        "        self.conv1ds = nn.ModuleList([nn.Conv1d(hidden_size, hidden_size * 2, kernel_size=kernel_size,\n",
        "                                                padding=(kernel_size - 1)) for _ in range(n_layers)])\n",
        "        self.fc = nn.Linear(embedding_size, vocab_size)\n",
        "    \n",
        "    def calculate_attention(self, hidden_state, embedded, enc_conved):\n",
        "        \"\"\"\n",
        "        :param Tensor[batch_size, hidden_size, dest_len] hidden_state\n",
        "        :param Tensor[batch_size, dest_len, embedding_size] embedded\n",
        "        :param Tensor[batch_size, src_len, embedding_size] enc_conved\n",
        "        :return Tensor[batch_size, dest_len, src_len] attn_weights\n",
        "        \"\"\"\n",
        "        hidden_state = self.fc_hidden_embedding_attn(hidden_state.permute(0, 2, 1)) # [batch_size, dest_len, embedding_size]\n",
        "        combined = hidden_state + embedded # [batch_size, dest_len, embedding_size]\n",
        "        scores = torch.matmul(combined, enc_conved.permute(0, 2, 1)) # [batch_size, dest_len, src_len]\n",
        "        attn_weights = F.softmax(scores, dim=2) # [batch_size, dest_len, src_len]\n",
        "        return attn_weights\n",
        "        \n",
        "    def forward(self, input_sequences, encoder_conved, encoder_embedded):\n",
        "        \"\"\"\n",
        "        :param Tensor[batch_size, dest_len] input_sequences\n",
        "        :param Tensor[batch_size, src_len, embedding_size] encoder_conved\n",
        "        :param Tensor[batch_size, src_len, embedding_size] encoder_embedded\n",
        "        :return Tensor[batch_size, dest_seq_len, vocab_size] logits\n",
        "        :return Tensor[batch_size, dest_len, src_len] attn_weights\n",
        "        \"\"\"\n",
        "        positions = torch.arange(0, input_sequences.size(1)).unsqueeze(0).repeat(input_sequences.size(0), 1).to(input_sequences.device)\n",
        "        position_embedded = self.position_embedding(positions) # [batch_size, dest_len, embedding_size]\n",
        "        token_embedded = self.token_embedding(input_sequences) # [batch_size, dest_len, embedding_size]\n",
        "        embedded = self.dropout(position_embedded + token_embedded) # [batch_size, dest_len, embedding_size]\n",
        "        conv_output = self.fc_embedding_hidden(embedded) # [batch_size, dest_len, hidden_size]\n",
        "        conv_output = conv_output.permute(0, 2, 1) # [batch_size, hidden_size, dest_len]\n",
        "        for conv1d in self.conv1ds:\n",
        "            conv_output = self.dropout(conv_output)\n",
        "            conved = conv1d(conv_output) # [batch_size, hidden_size * 2, dest_len + kernel_size - 1]\n",
        "            conved = F.glu(conved[:, :, :-(self.kernel_size - 1)], dim=1) # [batch_size, hidden_size, dest_len]\n",
        "            conv_output = (conved + conv_output) * self.scale # [batch_size, hidden_size, dest_len] Residual connection\n",
        "            attn_weights = self.calculate_attention(hidden_state=conv_output, embedded=embedded, enc_conved=encoder_conved) # [batch_size, dest_len, src_len]\n",
        "            m = encoder_conved.size(1)\n",
        "            conditional_input = torch.matmul(attn_weights, (encoder_conved + encoder_embedded)) * m * np.sqrt(1 / m)\n",
        "            # conditional_input [batch_size, dest_len, embedding_size]\n",
        "            conditional_input = self.fc_embedding_hidden_attn(conditional_input) # [batch_size, dest_len, hidden_size]\n",
        "            conv_output = (conv_output + conditional_input.permute(0, 2, 1)) * self.scale # [batch_size, hidden_size, dest_len]\n",
        "        conved = self.fc_hidden_embedding(conv_output.permute(0, 2, 1)) # [batch_size, dest_len, embedding_size]\n",
        "        logits = self.fc(self.dropout(conved)) # [batch_size, dest_seq_len, vocab_size]\n",
        "        return logits, attn_weights"
      ],
      "execution_count": null,
      "outputs": []
    },
    {
      "cell_type": "markdown",
      "metadata": {
        "id": "4iB6g0cxrqKF"
      },
      "source": [
        "***Sequence-to-sequence model***"
      ]
    },
    {
      "cell_type": "code",
      "metadata": {
        "id": "9xCCvi_lrn-j"
      },
      "source": [
        "class SeqToSeqNet(nn.Module):\n",
        "\n",
        "    def __init__(self, encoder, decoder):\n",
        "        assert encoder.n_layers == decoder.n_layers, 'Encoder and Decoder must have the same number of reccurent layers'\n",
        "        assert encoder.hidden_size == decoder.hidden_size, 'Encoder and Decoder must have the same number of reccurrent hidden units'\n",
        "        super(SeqToSeqNet, self).__init__()\n",
        "        self.encoder = encoder\n",
        "        self.decoder = decoder\n",
        "\n",
        "    def forward(self, src_sequences, dest_sequences):\n",
        "        \"\"\"\n",
        "        :param Tensor[batch_size, src_seq_len] src_sequences\n",
        "        :param Tensor[batch_size, dest_seq_len] dest_sequences\n",
        "        :return Tensor[batch_size, dest_seq_len, vocab_size] logits\n",
        "        :return [batch_size, dest_seq_len, src_seq_len] attn_weights\n",
        "        \"\"\"\n",
        "        encoder_embedded, encoder_conved = self.encoder(src_sequences) # Encoding\n",
        "        logits, attn_weights = self.decoder(dest_sequences, encoder_conved, encoder_embedded) # Decoding\n",
        "        return logits, attn_weights"
      ],
      "execution_count": null,
      "outputs": []
    },
    {
      "cell_type": "markdown",
      "metadata": {
        "id": "TbFAF3wYr_Wr"
      },
      "source": [
        "***Training routines***"
      ]
    },
    {
      "cell_type": "code",
      "metadata": {
        "id": "TW0XE0Hor9P1"
      },
      "source": [
        "class AverageMeter:\n",
        "    \n",
        "    def __init__(self):\n",
        "        self.value = 0.\n",
        "        self.sum = 0.\n",
        "        self.count = 0\n",
        "        self.average = 0.\n",
        "        \n",
        "    def reset(self):\n",
        "        self.value = 0.\n",
        "        self.sum = 0.\n",
        "        self.count = 0\n",
        "        self.average = 0.\n",
        "        \n",
        "    def update(self, value, n=1):\n",
        "        self.value = value\n",
        "        self.sum += value * n\n",
        "        self.count += n\n",
        "        self.average = self.sum / self.count"
      ],
      "execution_count": null,
      "outputs": []
    },
    {
      "cell_type": "code",
      "metadata": {
        "id": "SQb1T03SsEmB"
      },
      "source": [
        "def accuracy(outputs, target_sequences, k=5):\n",
        "    \"\"\"\n",
        "    :param Tensor[batch_size, dest_seq_len, vocab_size] outputs\n",
        "    :param Tensor[batch_size, dest_seq_len] target_sequences\n",
        "    :return float Top-k accuracy\n",
        "    \"\"\"\n",
        "    # print([*map(lambda token: EN.vocab.itos[token], outputs.argmax(dim=-1)[0].tolist())])\n",
        "    # print([*map(lambda token: EN.vocab.itos[token], target_sequences[0].tolist())])\n",
        "    # print(\"=\"*100)\n",
        "    batch_size = target_sequences.size(0)\n",
        "    _, indices = outputs.topk(k, dim=2, largest=True, sorted=True) # [batch_size, dest_seq_len, 5]\n",
        "    correct = indices.eq(target_sequences.unsqueeze(-1).expand_as(indices))\n",
        "    correct_total = correct.view(-1).float().sum()  # 0D tensor\n",
        "    return correct_total.item() * (100.0 / indices.numel())"
      ],
      "execution_count": null,
      "outputs": []
    },
    {
      "cell_type": "code",
      "metadata": {
        "id": "VPnN9lfKsHzA"
      },
      "source": [
        "class Trainer:\n",
        "\n",
        "    def __init__(self, model, optimizer, criterion, train_iterator, valid_iterator):\n",
        "        self.model = model\n",
        "        self.optimizer = optimizer\n",
        "        self.criterion = criterion\n",
        "        self.train_iterator = train_iterator\n",
        "        self.valid_iterator = valid_iterator\n",
        "\n",
        "    def clip_gradients(self, grad_clip):\n",
        "        if grad_clip is not None:\n",
        "            for group in self.optimizer.param_groups:\n",
        "                for param in group['params']:\n",
        "                    if param.grad is not None:\n",
        "                        param.grad.data.clamp_(-grad_clip, grad_clip)\n",
        "\n",
        "    def adjust_lr(self, shrink_factor=0.9, verbose=True):\n",
        "        if verbose:\n",
        "            print(\"\\nDecaying learning rate.\")\n",
        "        for param_group in self.optimizer.param_groups:\n",
        "            param_group['lr'] = param_group['lr'] * shrink_factor\n",
        "        if verbose:\n",
        "            print(\"The new learning rate is %f\\n\" % (self.optimizer.param_groups[0]['lr'],))\n",
        "    \n",
        "    def train_step(self, epoch, grad_clip):\n",
        "        loss_tracker, acc_tracker = AverageMeter(), AverageMeter()\n",
        "        self.model.train()\n",
        "        progress_bar = tqdm.tqdm(enumerate(self.train_iterator), total=len(self.train_iterator))\n",
        "        for i, batch in progress_bar:\n",
        "            src, trg = batch.src, batch.trg\n",
        "            self.optimizer.zero_grad()\n",
        "            logits, _ = self.model(src, trg[:, :-1]) # [batch_size, dest_len, vocab_size]\n",
        "            loss = self.criterion(logits.contiguous().view(-1, self.model.decoder.vocab_size), trg[:, 1:].contiguous().view(-1))\n",
        "            loss.backward()\n",
        "            nn.utils.clip_grad_norm_(self.model.parameters(), grad_clip)\n",
        "            self.optimizer.step()\n",
        "            loss_tracker.update(loss.item())\n",
        "            acc_tracker.update(accuracy(logits, trg[:, 1:]))\n",
        "            loss_, ppl_, acc_ = loss_tracker.average, np.exp(loss_tracker.average), acc_tracker.average\n",
        "            progress_bar.set_description(f'Epoch: {epoch+1:02d} -     loss: {loss_:.3f} -     ppl: {ppl_:.3f} -     acc: {acc_:.3f}%')\n",
        "        return loss_tracker.average, np.exp(loss_tracker.average), acc_tracker.average\n",
        "    \n",
        "    def validate(self, epoch):\n",
        "        loss_tracker, acc_tracker = AverageMeter(), AverageMeter()\n",
        "        self.model.eval()\n",
        "        with torch.no_grad():\n",
        "            progress_bar = tqdm.tqdm(enumerate(self.valid_iterator), total=len(self.valid_iterator))\n",
        "            for i, batch in progress_bar:\n",
        "                src, trg = batch.src, batch.trg\n",
        "                logits, _ = self.model(src, trg[:, :-1]) # [batch_size, dest_len, vocab_size]\n",
        "                loss = self.criterion(logits.contiguous().view(-1, self.model.decoder.vocab_size), trg[:, 1:].contiguous().view(-1))\n",
        "                loss_tracker.update(loss.item())\n",
        "                acc_tracker.update(accuracy(logits, trg[:, 1:]))\n",
        "                loss_, ppl_, acc_ = loss_tracker.average, np.exp(loss_tracker.average), acc_tracker.average\n",
        "                progress_bar.set_description(f'Epoch: {epoch+1:02d} - val_loss: {loss_:.3f} - val_ppl: {ppl_:.3f} - val_acc: {acc_:.3f}%')\n",
        "        return loss_tracker.average, np.exp(loss_tracker.average), acc_tracker.average\n",
        "    \n",
        "    def train(self, n_epochs, grad_clip):\n",
        "        history = {'acc': [], 'loss': [], 'ppl': [], 'val_ppl': [], 'val_acc': [], 'val_loss': []}\n",
        "        best_loss, last_improv = np.inf, 0\n",
        "        for epoch in range(n_epochs):\n",
        "            if last_improv == 4:\n",
        "                print('Training Finished - The model has stopped improving since last 4 epochs')\n",
        "                break\n",
        "            if last_improv > 0:\n",
        "                self.adjust_lr()\n",
        "            loss, ppl, acc = self.train_step(epoch, grad_clip)\n",
        "            val_loss, val_ppl, val_acc = self.validate(epoch)\n",
        "            \n",
        "            if best_loss > val_loss:\n",
        "                best_loss, last_improv = val_loss, 0\n",
        "                torch.save(self.model.state_dict(), './checkpoints/seq2seq-convolution.pth')\n",
        "            else:\n",
        "                last_improv += 1\n",
        "                print(f'\\nLast improvement since epoch {epoch - last_improv + 1}')\n",
        "            \n",
        "            history['acc'].append(acc)\n",
        "            history['ppl'].append(ppl)\n",
        "            history['loss'].append(loss)\n",
        "            history['val_acc'].append(val_acc)\n",
        "            history['val_ppl'].append(val_ppl)\n",
        "            history['val_loss'].append(val_loss)\n",
        "        return history"
      ],
      "execution_count": null,
      "outputs": []
    },
    {
      "cell_type": "markdown",
      "metadata": {
        "id": "BmSkJQx_sdWB"
      },
      "source": [
        "***Train the model***"
      ]
    },
    {
      "cell_type": "code",
      "metadata": {
        "id": "YT-e9WErspuB"
      },
      "source": [
        "def init_weights(m):\n",
        "    if isinstance(m, nn.Embedding):\n",
        "        nn.init.normal_(m.weight, mean=0.0, std=0.1)\n",
        "    if isinstance(m, nn.Linear):\n",
        "        nn.init.normal_(m.weight, mean=0.0, std=np.sqrt(1 / m.in_features))\n",
        "        if m.bias is not None: \n",
        "            nn.init.zeros_(m.bias)\n",
        "    if isinstance(m, nn.Conv1d):\n",
        "        nn.init.normal_(m.weight, mean=0.0, std=np.sqrt(4 / m.in_channels))\n",
        "        if m.bias is not None: \n",
        "            nn.init.zeros_(m.bias)"
      ],
      "execution_count": null,
      "outputs": []
    },
    {
      "cell_type": "code",
      "metadata": {
        "id": "dr9PXJeSsapb"
      },
      "source": [
        "N_LAYERS = 2\n",
        "HIDDEN_SIZE = 256\n",
        "EMBED_SIZE = 300\n",
        "KERNEL_SIZE = 3\n",
        "DROPOUT = 0.25\n",
        "SCALE = np.sqrt(0.5)\n",
        "MAX_LEN = 50\n",
        "N_EPOCHS = 10\n",
        "BATCH_SIZE = 64\n",
        "LR = 1e-3\n",
        "GRAD_CLIP = 0.1"
      ],
      "execution_count": null,
      "outputs": []
    },
    {
      "cell_type": "code",
      "metadata": {
        "id": "ew8kCeZCuXdq",
        "outputId": "3dd71a79-b269-4a90-b7e1-ace15ed409ec",
        "colab": {
          "base_uri": "https://localhost:8080/",
          "height": 493
        }
      },
      "source": [
        "encoder_layer = EncoderLayer(vocab_size=len(DE.vocab), max_length=MAX_LEN, embedding_size=EMBED_SIZE, hidden_size=HIDDEN_SIZE,\n",
        "                             kernel_size=KERNEL_SIZE, scale=SCALE, n_layers=N_LAYERS, dropout=DROPOUT)\n",
        "decoder_layer = DecoderLayer(vocab_size=len(EN.vocab), max_length=MAX_LEN, embedding_size=EMBED_SIZE, hidden_size=HIDDEN_SIZE, \n",
        "                             kernel_size=KERNEL_SIZE, scale=SCALE, n_layers=N_LAYERS, dropout=DROPOUT)\n",
        "seq2seq = SeqToSeqNet(encoder=encoder_layer, decoder=decoder_layer).to(DEVICE)\n",
        "seq2seq.apply(init_weights)\n",
        "optimizer = optim.RMSprop(params=seq2seq.parameters(), lr=LR)\n",
        "criterion = nn.CrossEntropyLoss(ignore_index=EN.vocab.stoi[EN.pad_token])\n",
        "print(f'Number of parameters of the model: {sum(p.numel() for p in seq2seq.parameters() if p.requires_grad):,}')\n",
        "print(seq2seq)\n",
        "train_iterator, valid_iterator, test_iterator =  BucketIterator.splits((train_data, valid_data, test_data), batch_size=BATCH_SIZE, device=DEVICE)\n",
        "trainer = Trainer(model=seq2seq, optimizer=optimizer, criterion=criterion, train_iterator=train_iterator, valid_iterator=valid_iterator)"
      ],
      "execution_count": null,
      "outputs": [
        {
          "output_type": "stream",
          "text": [
            "Number of parameters of the model: 7,965,273\n",
            "SeqToSeqNet(\n",
            "  (encoder): EncoderLayer(\n",
            "    (dropout): Dropout(p=0.25, inplace=False)\n",
            "    (token_embedding): Embedding(7854, 300)\n",
            "    (position_embedding): Embedding(50, 300)\n",
            "    (fc_embedding_hidden): Linear(in_features=300, out_features=256, bias=True)\n",
            "    (fc_hidden_embedding): Linear(in_features=256, out_features=300, bias=True)\n",
            "    (conv1ds): ModuleList(\n",
            "      (0): Conv1d(256, 512, kernel_size=(3,), stride=(1,), padding=(1,))\n",
            "      (1): Conv1d(256, 512, kernel_size=(3,), stride=(1,), padding=(1,))\n",
            "    )\n",
            "  )\n",
            "  (decoder): DecoderLayer(\n",
            "    (dropout): Dropout(p=0.25, inplace=False)\n",
            "    (token_embedding): Embedding(5893, 300)\n",
            "    (position_embedding): Embedding(50, 300)\n",
            "    (fc_embedding_hidden): Linear(in_features=300, out_features=256, bias=True)\n",
            "    (fc_hidden_embedding): Linear(in_features=256, out_features=300, bias=True)\n",
            "    (fc_embedding_hidden_attn): Linear(in_features=300, out_features=256, bias=True)\n",
            "    (fc_hidden_embedding_attn): Linear(in_features=256, out_features=300, bias=True)\n",
            "    (conv1ds): ModuleList(\n",
            "      (0): Conv1d(256, 512, kernel_size=(3,), stride=(1,), padding=(2,))\n",
            "      (1): Conv1d(256, 512, kernel_size=(3,), stride=(1,), padding=(2,))\n",
            "    )\n",
            "    (fc): Linear(in_features=300, out_features=5893, bias=True)\n",
            "  )\n",
            ")\n"
          ],
          "name": "stdout"
        }
      ]
    },
    {
      "cell_type": "code",
      "metadata": {
        "id": "rGyxRQHjvEiO",
        "outputId": "5c4d045b-2f64-4768-fe84-9526c05fb633",
        "colab": {
          "base_uri": "https://localhost:8080/",
          "height": 357
        }
      },
      "source": [
        "history = trainer.train(n_epochs=N_EPOCHS, grad_clip=GRAD_CLIP)"
      ],
      "execution_count": null,
      "outputs": [
        {
          "output_type": "stream",
          "text": [
            "Epoch: 01 -     loss: 4.810 -     ppl: 122.742 -     acc: 5.207%: 100%|██████████| 454/454 [00:12<00:00, 36.01it/s]\n",
            "Epoch: 01 - val_loss: 2.833 - val_ppl: 16.993 - val_acc: 12.084%: 100%|██████████| 16/16 [00:00<00:00, 97.49it/s] \n",
            "Epoch: 02 -     loss: 2.830 -     ppl: 16.948 -     acc: 7.459%: 100%|██████████| 454/454 [00:12<00:00, 36.68it/s]\n",
            "Epoch: 02 - val_loss: 2.230 - val_ppl: 9.301 - val_acc: 13.458%: 100%|██████████| 16/16 [00:00<00:00, 91.47it/s]\n",
            "Epoch: 03 -     loss: 2.371 -     ppl: 10.709 -     acc: 8.056%: 100%|██████████| 454/454 [00:12<00:00, 36.89it/s]\n",
            "Epoch: 03 - val_loss: 2.003 - val_ppl: 7.411 - val_acc: 13.953%: 100%|██████████| 16/16 [00:00<00:00, 104.53it/s]\n",
            "Epoch: 04 -     loss: 2.100 -     ppl: 8.166 -     acc: 8.426%: 100%|██████████| 454/454 [00:12<00:00, 36.61it/s]\n",
            "Epoch: 04 - val_loss: 1.860 - val_ppl: 6.425 - val_acc: 14.212%: 100%|██████████| 16/16 [00:00<00:00, 99.39it/s] \n",
            "Epoch: 05 -     loss: 1.918 -     ppl: 6.810 -     acc: 8.683%: 100%|██████████| 454/454 [00:12<00:00, 36.77it/s]\n",
            "Epoch: 05 - val_loss: 1.756 - val_ppl: 5.788 - val_acc: 14.461%: 100%|██████████| 16/16 [00:00<00:00, 91.74it/s]\n",
            "Epoch: 06 -     loss: 1.779 -     ppl: 5.926 -     acc: 8.843%: 100%|██████████| 454/454 [00:12<00:00, 36.60it/s]\n",
            "Epoch: 06 - val_loss: 1.698 - val_ppl: 5.463 - val_acc: 14.549%: 100%|██████████| 16/16 [00:00<00:00, 101.84it/s]\n",
            "Epoch: 07 -     loss: 1.678 -     ppl: 5.356 -     acc: 8.974%: 100%|██████████| 454/454 [00:12<00:00, 36.98it/s]\n",
            "Epoch: 07 - val_loss: 1.662 - val_ppl: 5.267 - val_acc: 14.662%: 100%|██████████| 16/16 [00:00<00:00, 100.74it/s]\n",
            "Epoch: 08 -     loss: 1.592 -     ppl: 4.913 -     acc: 9.105%: 100%|██████████| 454/454 [00:12<00:00, 36.95it/s]\n",
            "Epoch: 08 - val_loss: 1.633 - val_ppl: 5.118 - val_acc: 14.695%: 100%|██████████| 16/16 [00:00<00:00, 99.68it/s] \n",
            "Epoch: 09 -     loss: 1.523 -     ppl: 4.584 -     acc: 9.177%: 100%|██████████| 454/454 [00:12<00:00, 36.69it/s]\n",
            "Epoch: 09 - val_loss: 1.608 - val_ppl: 4.994 - val_acc: 14.812%: 100%|██████████| 16/16 [00:00<00:00, 103.70it/s]\n",
            "Epoch: 10 -     loss: 1.461 -     ppl: 4.310 -     acc: 9.279%: 100%|██████████| 454/454 [00:12<00:00, 37.06it/s]\n",
            "Epoch: 10 - val_loss: 1.587 - val_ppl: 4.890 - val_acc: 14.839%: 100%|██████████| 16/16 [00:00<00:00, 97.80it/s] \n"
          ],
          "name": "stderr"
        }
      ]
    },
    {
      "cell_type": "code",
      "metadata": {
        "id": "9SH3KGB0vp7A",
        "outputId": "3ddddadf-ce98-4682-ed99-6391a7711fae",
        "colab": {
          "base_uri": "https://localhost:8080/",
          "height": 350
        }
      },
      "source": [
        "_, axes = plt.subplots(1, 3, figsize=(15, 5))\n",
        "\n",
        "axes[0].plot(history['loss'], label='train')\n",
        "axes[0].plot(history['val_loss'], label='valid')\n",
        "axes[0].set_title('Loss history')\n",
        "axes[0].set_xlabel('Epoch')\n",
        "axes[0].set_ylabel('Loss')\n",
        "axes[0].grid(True)\n",
        "axes[0].legend()\n",
        "\n",
        "axes[1].plot(history['ppl'], label='train')\n",
        "axes[1].plot(history['val_ppl'], label='valid')\n",
        "axes[1].set_title('Perplexity history')\n",
        "axes[1].set_xlabel('Epoch')\n",
        "axes[1].set_ylabel('Perplexity')\n",
        "axes[1].grid(True)\n",
        "axes[1].legend()\n",
        "\n",
        "axes[2].plot(history['acc'], label='train')\n",
        "axes[2].plot(history['val_acc'], label='valid')\n",
        "axes[2].set_title('Top-5 Accuracy & BLEU-4 history')\n",
        "axes[2].set_xlabel('Epoch')\n",
        "axes[2].set_ylabel('Accuracy & BLEU-4 (%)')\n",
        "axes[2].grid(True)\n",
        "axes[2].legend()\n",
        "\n",
        "plt.show()"
      ],
      "execution_count": null,
      "outputs": [
        {
          "output_type": "display_data",
          "data": {
            "image/png": "[encoded data removed]",
            "text/plain": [
              "<Figure size 1080x360 with 3 Axes>"
            ]
          },
          "metadata": {
            "tags": [],
            "needs_background": "light"
          }
        }
      ]
    },
    {
      "cell_type": "markdown",
      "metadata": {
        "id": "ZN-6RJVyxDke"
      },
      "source": [
        "## Evaluation - Beam search & BLEU score"
      ]
    },
    {
      "cell_type": "code",
      "metadata": {
        "id": "KrYB4Pyiy8oT",
        "outputId": "3de67f86-12e0-4a5c-97fb-3bb77b9fc46d",
        "colab": {
          "base_uri": "https://localhost:8080/",
          "height": 476
        }
      },
      "source": [
        "seq2seq.load_state_dict(torch.load('./checkpoints/seq2seq-convolution.pth'))\n",
        "seq2seq.to(DEVICE)"
      ],
      "execution_count": null,
      "outputs": [
        {
          "output_type": "execute_result",
          "data": {
            "text/plain": [
              "SeqToSeqNet(\n",
              "  (encoder): EncoderLayer(\n",
              "    (dropout): Dropout(p=0.25, inplace=False)\n",
              "    (token_embedding): Embedding(7854, 300)\n",
              "    (position_embedding): Embedding(50, 300)\n",
              "    (fc_embedding_hidden): Linear(in_features=300, out_features=256, bias=True)\n",
              "    (fc_hidden_embedding): Linear(in_features=256, out_features=300, bias=True)\n",
              "    (conv1ds): ModuleList(\n",
              "      (0): Conv1d(256, 512, kernel_size=(3,), stride=(1,), padding=(1,))\n",
              "      (1): Conv1d(256, 512, kernel_size=(3,), stride=(1,), padding=(1,))\n",
              "    )\n",
              "  )\n",
              "  (decoder): DecoderLayer(\n",
              "    (dropout): Dropout(p=0.25, inplace=False)\n",
              "    (token_embedding): Embedding(5893, 300)\n",
              "    (position_embedding): Embedding(50, 300)\n",
              "    (fc_embedding_hidden): Linear(in_features=300, out_features=256, bias=True)\n",
              "    (fc_hidden_embedding): Linear(in_features=256, out_features=300, bias=True)\n",
              "    (fc_embedding_hidden_attn): Linear(in_features=300, out_features=256, bias=True)\n",
              "    (fc_hidden_embedding_attn): Linear(in_features=256, out_features=300, bias=True)\n",
              "    (conv1ds): ModuleList(\n",
              "      (0): Conv1d(256, 512, kernel_size=(3,), stride=(1,), padding=(2,))\n",
              "      (1): Conv1d(256, 512, kernel_size=(3,), stride=(1,), padding=(2,))\n",
              "    )\n",
              "    (fc): Linear(in_features=300, out_features=5893, bias=True)\n",
              "  )\n",
              ")"
            ]
          },
          "metadata": {
            "tags": []
          },
          "execution_count": 18
        }
      ]
    },
    {
      "cell_type": "code",
      "metadata": {
        "id": "LqsamQ5y6kmk"
      },
      "source": [
        "from beam_utils import Node, find_best_path, find_path\n",
        "\n",
        "def evaluate(model, data, beam_size, src_field, dest_field, max_len, device):\n",
        "    src_sentences = [*map(lambda example: example.src, data.examples)]\n",
        "    dest_sentences = [*map(lambda example: example.trg, data.examples)]\n",
        "    data = [*zip([*map(lambda word_list: src_field.process([word_list]), src_sentences)],\n",
        "                 [*map(lambda word_list: dest_field.process([word_list]), dest_sentences)])]\n",
        "    references, hypotheses, sources = [], [], []\n",
        "    model.eval()\n",
        "    with torch.no_grad():\n",
        "        for i, (src_sequence, dest_sequence) in tqdm.tqdm(enumerate(data), total=len(data)):\n",
        "            src_sequence, dest_sequence = src_sequence.to(device), dest_sequence.to(device)\n",
        "            encoder_embedded, encoder_conved = model.encoder(src_sequence) # Encoding            \n",
        "            # Decoding\n",
        "            tree = [[Node(token=torch.LongTensor([dest_field.vocab.stoi[dest_field.init_token]]).to(device), states=None)]]\n",
        "            for _ in range(max_len):\n",
        "                next_nodes = []\n",
        "                for node in tree[-1]:\n",
        "                    if node.eos: # Skip eos token\n",
        "                        continue\n",
        "                    # Get tokens that're already translated\n",
        "                    already_translated = torch.LongTensor([*map(lambda node: node.token, find_path(tree))][::-1]).unsqueeze(0).to(device)\n",
        "                    logit, _ = model.decoder(already_translated, encoder_conved, encoder_embedded) # [1, dest_seq_len, vocab_size]                    \n",
        "                    logp = F.log_softmax(logit[:, -1, :], dim=1).squeeze(dim=0) # [vocab_size] Get scores                    \n",
        "                    topk_logps, topk_tokens = torch.topk(logp, beam_size) # Get top k tokens & logps                    \n",
        "                    for k in range(beam_size):\n",
        "                        next_nodes.append(Node(token=topk_tokens[k, None], states=None,\n",
        "                                               logp=topk_logps[k, None].cpu().item(), parent=node,\n",
        "                                               eos=topk_tokens[k].cpu().item() == dest_field.vocab[dest_field.eos_token]))\n",
        "                if len(next_nodes) == 0:\n",
        "                    break\n",
        "                next_nodes = sorted(next_nodes, key=lambda node: node.logps, reverse=True) # Sort next_nodes to get the best\n",
        "                tree.append(next_nodes[:beam_size]) # Update the tree\n",
        "            best_path = find_best_path(tree) # Find the best path of the tree\n",
        "\n",
        "            # Get the translation\n",
        "            pred_translated = [*map(lambda node: dest_field.vocab.itos[node.token], best_path)]\n",
        "            pred_translated = [*filter(lambda word: word not in [dest_field.init_token, dest_field.eos_token], pred_translated[::-1])]\n",
        "\n",
        "            hypotheses.append(pred_translated) # Update hypotheses\n",
        "\n",
        "            # Update references\n",
        "            references.append([[dest_field.vocab.itos[indice] for indice in dest_sequence[0] if indice not in (\n",
        "                dest_field.vocab.stoi[dest_field.init_token],\n",
        "                dest_field.vocab.stoi[dest_field.eos_token],\n",
        "                dest_field.vocab.stoi[dest_field.pad_token]\n",
        "            )]])\n",
        "\n",
        "            # Update sources\n",
        "            sources.append([src_field.vocab.itos[indice]  for indice in src_sequence[0] if indice not in (\n",
        "                src_field.vocab.stoi[src_field.init_token],\n",
        "                src_field.vocab.stoi[src_field.eos_token],\n",
        "                src_field.vocab.stoi[src_field.pad_token]\n",
        "            )])\n",
        "    \n",
        "        assert len(hypotheses) == len(references) == len(sources)\n",
        "        bleu4 = bleu_score(hypotheses, references, max_n=4, weights=[0.25, 0.25, 0.25, 0.25]) # Calculate BLEU-4 score\n",
        "    return hypotheses, references, sources, bleu4"
      ],
      "execution_count": null,
      "outputs": []
    },
    {
      "cell_type": "code",
      "metadata": {
        "id": "4rjW3Ag47l7x",
        "outputId": "c5e77653-d251-470b-8fd8-7e3bee650170",
        "colab": {
          "base_uri": "https://localhost:8080/",
          "height": 221
        }
      },
      "source": [
        "bleu_scores = []\n",
        "for beam_size in [1, 3, 5]:\n",
        "    for name, data in [('validation', valid_data), ('test', test_data)]:\n",
        "        _, _, _, bleu4 = evaluate(model=seq2seq, data=data, beam_size=beam_size, src_field=DE, dest_field=EN, max_len=MAX_LEN, device=DEVICE)\n",
        "        bleu_scores.append((beam_size, name, bleu4))\n",
        "        \n",
        "for score in bleu_scores:\n",
        "    print(f'BLEU-4: {score[2]*100:.3f}% with beam_size={score[0]} on {score[1]} data')"
      ],
      "execution_count": null,
      "outputs": [
        {
          "output_type": "stream",
          "text": [
            "100%|██████████| 1014/1014 [00:45<00:00, 22.29it/s]\n",
            "100%|██████████| 1000/1000 [00:43<00:00, 22.81it/s]\n",
            "100%|██████████| 1014/1014 [02:09<00:00,  7.82it/s]\n",
            "100%|██████████| 1000/1000 [02:05<00:00,  7.99it/s]\n",
            "100%|██████████| 1014/1014 [03:40<00:00,  4.60it/s]\n",
            "100%|██████████| 1000/1000 [03:32<00:00,  4.71it/s]\n"
          ],
          "name": "stderr"
        },
        {
          "output_type": "stream",
          "text": [
            "BLEU-4: 37.069% with beam_size=1 on validation data\n",
            "BLEU-4: 37.453% with beam_size=1 on test data\n",
            "BLEU-4: 37.069% with beam_size=3 on validation data\n",
            "BLEU-4: 37.453% with beam_size=3 on test data\n",
            "BLEU-4: 37.069% with beam_size=5 on validation data\n",
            "BLEU-4: 37.453% with beam_size=5 on test data\n"
          ],
          "name": "stdout"
        }
      ]
    },
    {
      "cell_type": "markdown",
      "metadata": {
        "id": "I39yyAvlzMEn"
      },
      "source": [
        "## Inference"
      ]
    },
    {
      "cell_type": "code",
      "metadata": {
        "id": "ZNycUh0TzBjk"
      },
      "source": [
        "def translate(sentences, model, beam_size, src_field, dest_field, max_len, device):\n",
        "    if isinstance(sentences, list):\n",
        "        sentences = [*map(src_field.preprocess, sentences)]\n",
        "        targets = None\n",
        "    if isinstance(sentences, Dataset):\n",
        "        targets = [*map(lambda example: ' '.join(example.trg), sentences.examples)]\n",
        "        sentences = [*map(lambda example: example.src, sentences.examples)]\n",
        "    data = [*map(lambda word_list: src_field.process([word_list]), sentences)]\n",
        "    translated_sentences, attention_weights, pred_logps = [], [], []\n",
        "    model.eval()\n",
        "    with torch.no_grad():\n",
        "        for i, src_sequence in tqdm.tqdm(enumerate(data), total=len(data)):\n",
        "            src_sequence = src_sequence.to(device)\n",
        "            encoder_embedded, encoder_conved = model.encoder(src_sequence) # Encoding\n",
        "            tree = [[Node(token=torch.LongTensor([dest_field.vocab.stoi[dest_field.init_token]]).to(device), states=())]]\n",
        "            for _ in range(max_len):\n",
        "                next_nodes = []\n",
        "                for node in tree[-1]:\n",
        "                    if node.eos: # Skip eos token\n",
        "                        continue\n",
        "                    # Get tokens that're already translated\n",
        "                    already_translated = torch.LongTensor([*map(lambda node: node.token, find_path(tree))][::-1]).unsqueeze(0).to(device)\n",
        "                    logit, attn_weights = model.decoder(already_translated, encoder_conved, encoder_embedded)                   \n",
        "                    logp = F.log_softmax(logit[:, -1, :], dim=1).squeeze(dim=0) # [vocab_size] Get scores                    \n",
        "                    topk_logps, topk_tokens = torch.topk(logp, beam_size) # Get top k tokens & logps                    \n",
        "                    for k in range(beam_size):\n",
        "                        next_nodes.append(Node(token=topk_tokens[k, None], states=(attn_weights,),\n",
        "                                               logp=topk_logps[k, None].cpu().item(), parent=node,\n",
        "                                               eos=topk_tokens[k].cpu().item() == dest_field.vocab[dest_field.eos_token]))\n",
        "                if len(next_nodes) == 0:\n",
        "                    break\n",
        "                next_nodes = sorted(next_nodes, key=lambda node: node.logps, reverse=True)\n",
        "                tree.append(next_nodes[:beam_size])\n",
        "            best_path = find_best_path(tree)[::-1]\n",
        "            # Get the translation\n",
        "            pred_translated = [*map(lambda node: dest_field.vocab.itos[node.token], best_path)]\n",
        "            pred_translated = [*filter(lambda word: word not in [\n",
        "                dest_field.init_token, dest_field.eos_token\n",
        "            ], pred_translated)]\n",
        "            translated_sentences.append(' '.join(pred_translated))\n",
        "            # Get probabilities\n",
        "            pred_logps.append(sum([*map(lambda node: node.logps, best_path)]))\n",
        "            # Get attention weights\n",
        "            attention_weights.append(best_path[-1].states[0].cpu().numpy())\n",
        "        sentences = [*map(lambda sentence: ' '.join(sentence), sentences)]\n",
        "    return sentences, translated_sentences, targets, attention_weights, pred_logps"
      ],
      "execution_count": null,
      "outputs": []
    },
    {
      "cell_type": "code",
      "metadata": {
        "id": "pk9rNsmoW5-N",
        "outputId": "60833b08-b626-4d51-d895-f1204f0249e4",
        "colab": {
          "base_uri": "https://localhost:8080/",
          "height": 34
        }
      },
      "source": [
        "sentences, translated_sentences, dest_sentences, attention_weights, pred_logps = translate(sentences=test_data, model=seq2seq, beam_size=1, src_field=DE,\n",
        "                                                                                           dest_field=EN, max_len=MAX_LEN, device=DEVICE)"
      ],
      "execution_count": null,
      "outputs": [
        {
          "output_type": "stream",
          "text": [
            "100%|██████████| 1000/1000 [00:39<00:00, 25.59it/s]\n"
          ],
          "name": "stderr"
        }
      ]
    },
    {
      "cell_type": "code",
      "metadata": {
        "id": "DaeXErHj0FZ1"
      },
      "source": [
        "def plot_attention(src, trg, scores):\n",
        "    fig, ax = plt.subplots(figsize=(10, 10))\n",
        "    heatmap = ax.pcolor(scores, cmap='bone')\n",
        "\n",
        "    ax.set_xticklabels(['<sos>'] + src.split() + ['<eos>'], minor=False, rotation='vertical')\n",
        "    ax.set_yticklabels(trg.split() + ['<eos>'], minor=False)\n",
        "\n",
        "    # put the major ticks at the middle of each cell\n",
        "    # and the x-ticks on top\n",
        "    ax.xaxis.tick_top()\n",
        "    ax.set_xticks(np.arange(scores.shape[1]) + 0.5, minor=False)\n",
        "    ax.set_yticks(np.arange(scores.shape[0]) + 0.5, minor=False)\n",
        "    ax.invert_yaxis()\n",
        "\n",
        "    plt.colorbar(heatmap)\n",
        "    plt.show()"
      ],
      "execution_count": null,
      "outputs": []
    },
    {
      "cell_type": "code",
      "metadata": {
        "id": "OxcI8cc3ZH7h",
        "outputId": "f6e01c96-ef74-4f29-cf8c-4fb15be3dc01",
        "colab": {
          "base_uri": "https://localhost:8080/",
          "height": 34
        }
      },
      "source": [
        "i = 210\n",
        "attention_weights[i].shape, len(translated_sentences[i].split()), len(sentences[i].split())"
      ],
      "execution_count": null,
      "outputs": [
        {
          "output_type": "execute_result",
          "data": {
            "text/plain": [
              "((1, 10, 7), 9, 5)"
            ]
          },
          "metadata": {
            "tags": []
          },
          "execution_count": 46
        }
      ]
    },
    {
      "cell_type": "code",
      "metadata": {
        "id": "Tv_To3Sy0HY4",
        "outputId": "8cefd665-03db-43f8-fa65-96f96fa553c4",
        "colab": {
          "base_uri": "https://localhost:8080/",
          "height": 1000
        }
      },
      "source": [
        "indexes = np.random.choice(len(test_data.examples), size=10, replace=False)\n",
        "print(indexes)\n",
        "print()\n",
        "for i in indexes:\n",
        "    html = f'<p><span style=\"color:blue\"><b>Source:</b> {sentences[i]}</span><br />'\n",
        "    html += f'<span style=\"color:green\"><b>Ground truth translation:</b> {dest_sentences[i]}</span><br />'\n",
        "    html += f'<span style=\"color:red\"><b>Predicted translation:</b> {translated_sentences[i]}</span></p>'\n",
        "    display(HTML(html))\n",
        "    plot_attention(sentences[i], translated_sentences[i], attention_weights[i][0])\n",
        "    print('='*100)"
      ],
      "execution_count": null,
      "outputs": [
        {
          "output_type": "stream",
          "text": [
            "[ 15 200 458 325 331 330 248 874 577 231]\n",
            "\n"
          ],
          "name": "stdout"
        },
        {
          "output_type": "display_data",
          "data": {
            "text/html": [
              "<p><span style=\"color:blue\"><b>Source:</b> ein mädchen in einem jeanskleid läuft über einen erhöhten schwebebalken .</span><br /><span style=\"color:green\"><b>Ground truth translation:</b> a girl in a jean dress is walking along a raised balance beam .</span><br /><span style=\"color:red\"><b>Predicted translation:</b> a girl in a <unk> costume is walking across a raised beam .</span></p>"
            ],
            "text/plain": [
              "<IPython.core.display.HTML object>"
            ]
          },
          "metadata": {
            "tags": []
          }
        },
        {
          "output_type": "display_data",
          "data": {
            "image/png": "[encoded data removed]",
            "text/plain": [
              "<Figure size 720x720 with 2 Axes>"
            ]
          },
          "metadata": {
            "tags": [],
            "needs_background": "light"
          }
        },
        {
          "output_type": "stream",
          "text": [
            "====================================================================================================\n"
          ],
          "name": "stdout"
        },
        {
          "output_type": "display_data",
          "data": {
            "text/html": [
              "<p><span style=\"color:blue\"><b>Source:</b> ein mann wirft einen ast in einen kanal während zwei hunde zusehen .</span><br /><span style=\"color:green\"><b>Ground truth translation:</b> a man is throwing a log into a waterway while two dogs watch .</span><br /><span style=\"color:red\"><b>Predicted translation:</b> a man is throwing a branch in a canal while two dogs watch .</span></p>"
            ],
            "text/plain": [
              "<IPython.core.display.HTML object>"
            ]
          },
          "metadata": {
            "tags": []
          }
        },
        {
          "output_type": "display_data",
          "data": {
            "image/png": "[encoded data removed]",
            "text/plain": [
              "<Figure size 720x720 with 2 Axes>"
            ]
          },
          "metadata": {
            "tags": [],
            "needs_background": "light"
          }
        },
        {
          "output_type": "stream",
          "text": [
            "====================================================================================================\n"
          ],
          "name": "stdout"
        },
        {
          "output_type": "display_data",
          "data": {
            "text/html": [
              "<p><span style=\"color:blue\"><b>Source:</b> zwei erwachsene und zwei kinder sitzen auf einer parkbank .</span><br /><span style=\"color:green\"><b>Ground truth translation:</b> two adults and two children sit on a park bench .</span><br /><span style=\"color:red\"><b>Predicted translation:</b> two adults and two children are sitting on a park bench .</span></p>"
            ],
            "text/plain": [
              "<IPython.core.display.HTML object>"
            ]
          },
          "metadata": {
            "tags": []
          }
        },
        {
          "output_type": "display_data",
          "data": {
            "image/png": "[encoded data removed]",
            "text/plain": [
              "<Figure size 720x720 with 2 Axes>"
            ]
          },
          "metadata": {
            "tags": [],
            "needs_background": "light"
          }
        },
        {
          "output_type": "stream",
          "text": [
            "====================================================================================================\n"
          ],
          "name": "stdout"
        },
        {
          "output_type": "display_data",
          "data": {
            "text/html": [
              "<p><span style=\"color:blue\"><b>Source:</b> eine frau in braunen sandalen , blauen jeans und einem weißen shirt hält ein baby unter einem großen baum .</span><br /><span style=\"color:green\"><b>Ground truth translation:</b> woman wearing brown sandals and blue jeans , in a white shirt , holding a baby under a tall tree .</span><br /><span style=\"color:red\"><b>Predicted translation:</b> a woman in a brown sandals , blue jeans and a white shirt is holding a baby under a large tree .</span></p>"
            ],
            "text/plain": [
              "<IPython.core.display.HTML object>"
            ]
          },
          "metadata": {
            "tags": []
          }
        },
        {
          "output_type": "display_data",
          "data": {
            "image/png": "[encoded data removed]",
            "text/plain": [
              "<Figure size 720x720 with 2 Axes>"
            ]
          },
          "metadata": {
            "tags": [],
            "needs_background": "light"
          }
        },
        {
          "output_type": "stream",
          "text": [
            "====================================================================================================\n"
          ],
          "name": "stdout"
        },
        {
          "output_type": "display_data",
          "data": {
            "text/html": [
              "<p><span style=\"color:blue\"><b>Source:</b> ein rothaariger mann mit dreadlocks sitzt und spielt auf einer akustischen gitarre .</span><br /><span style=\"color:green\"><b>Ground truth translation:</b> a red - haired man with dreadlocks is sitting playing and acoustic guitar .</span><br /><span style=\"color:red\"><b>Predicted translation:</b> a red - haired man with dreadlocks is sitting on a train .</span></p>"
            ],
            "text/plain": [
              "<IPython.core.display.HTML object>"
            ]
          },
          "metadata": {
            "tags": []
          }
        },
        {
          "output_type": "display_data",
          "data": {
            "image/png": "[encoded data removed]",
            "text/plain": [
              "<Figure size 720x720 with 2 Axes>"
            ]
          },
          "metadata": {
            "tags": [],
            "needs_background": "light"
          }
        },
        {
          "output_type": "stream",
          "text": [
            "====================================================================================================\n"
          ],
          "name": "stdout"
        },
        {
          "output_type": "display_data",
          "data": {
            "text/html": [
              "<p><span style=\"color:blue\"><b>Source:</b> ein kleiner junge mit einer blauen beanie-mütze hält den kopf gesenkt .</span><br /><span style=\"color:green\"><b>Ground truth translation:</b> a young boy with a blue beanie has his head down .</span><br /><span style=\"color:red\"><b>Predicted translation:</b> a little boy wearing a blue <unk> hat is holding her head bowed .</span></p>"
            ],
            "text/plain": [
              "<IPython.core.display.HTML object>"
            ]
          },
          "metadata": {
            "tags": []
          }
        },
        {
          "output_type": "display_data",
          "data": {
            "image/png": "[encoded data removed]",
            "text/plain": [
              "<Figure size 720x720 with 2 Axes>"
            ]
          },
          "metadata": {
            "tags": [],
            "needs_background": "light"
          }
        },
        {
          "output_type": "stream",
          "text": [
            "====================================================================================================\n"
          ],
          "name": "stdout"
        },
        {
          "output_type": "display_data",
          "data": {
            "text/html": [
              "<p><span style=\"color:blue\"><b>Source:</b> eine junge frau in tarnhose sitzt auf einem hummer-truppentransporter .</span><br /><span style=\"color:green\"><b>Ground truth translation:</b> a girl wearing camouflage pants sits on top of a hummer .</span><br /><span style=\"color:red\"><b>Predicted translation:</b> a young woman in a camouflage jacket is sitting on a cement - paved machine .</span></p>"
            ],
            "text/plain": [
              "<IPython.core.display.HTML object>"
            ]
          },
          "metadata": {
            "tags": []
          }
        },
        {
          "output_type": "display_data",
          "data": {
            "image/png": "[encoded data removed]",
            "text/plain": [
              "<Figure size 720x720 with 2 Axes>"
            ]
          },
          "metadata": {
            "tags": [],
            "needs_background": "light"
          }
        },
        {
          "output_type": "stream",
          "text": [
            "====================================================================================================\n"
          ],
          "name": "stdout"
        },
        {
          "output_type": "display_data",
          "data": {
            "text/html": [
              "<p><span style=\"color:blue\"><b>Source:</b> zwei bauarbeiter legen blech über balken .</span><br /><span style=\"color:green\"><b>Ground truth translation:</b> two construction workers are laying sheet metal across beams .</span><br /><span style=\"color:red\"><b>Predicted translation:</b> two construction workers are putting on a bar , <unk> on a bar .</span></p>"
            ],
            "text/plain": [
              "<IPython.core.display.HTML object>"
            ]
          },
          "metadata": {
            "tags": []
          }
        },
        {
          "output_type": "display_data",
          "data": {
            "image/png": "[encoded data removed]",
            "text/plain": [
              "<Figure size 720x720 with 2 Axes>"
            ]
          },
          "metadata": {
            "tags": [],
            "needs_background": "light"
          }
        },
        {
          "output_type": "stream",
          "text": [
            "====================================================================================================\n"
          ],
          "name": "stdout"
        },
        {
          "output_type": "display_data",
          "data": {
            "text/html": [
              "<p><span style=\"color:blue\"><b>Source:</b> sechs kinder sitzen mit blöcken und stiften auf einer stufe .</span><br /><span style=\"color:green\"><b>Ground truth translation:</b> six children , sitting on a step with notepads and crayons .</span><br /><span style=\"color:red\"><b>Predicted translation:</b> six children are sitting in a step with blocks and <unk> .</span></p>"
            ],
            "text/plain": [
              "<IPython.core.display.HTML object>"
            ]
          },
          "metadata": {
            "tags": []
          }
        },
        {
          "output_type": "display_data",
          "data": {
            "image/png": "[encoded data removed]",
            "text/plain": [
              "<Figure size 720x720 with 2 Axes>"
            ]
          },
          "metadata": {
            "tags": [],
            "needs_background": "light"
          }
        },
        {
          "output_type": "stream",
          "text": [
            "====================================================================================================\n"
          ],
          "name": "stdout"
        },
        {
          "output_type": "display_data",
          "data": {
            "text/html": [
              "<p><span style=\"color:blue\"><b>Source:</b> das mädchen in gelb lacht das mädchen in orange aus während das mädchen in blau zusieht .</span><br /><span style=\"color:green\"><b>Ground truth translation:</b> the girl in yellow is laughing at the girl wearing orange whilst being watched by the girl in blue .</span><br /><span style=\"color:red\"><b>Predicted translation:</b> the girl in yellow is laughing the girl in yellow is laughing while the girl in blue looks on .</span></p>"
            ],
            "text/plain": [
              "<IPython.core.display.HTML object>"
            ]
          },
          "metadata": {
            "tags": []
          }
        },
        {
          "output_type": "display_data",
          "data": {
            "image/png": "[encoded data removed]",
            "text/plain": [
              "<Figure size 720x720 with 2 Axes>"
            ]
          },
          "metadata": {
            "tags": [],
            "needs_background": "light"
          }
        },
        {
          "output_type": "stream",
          "text": [
            "====================================================================================================\n"
          ],
          "name": "stdout"
        }
      ]
    },
    {
      "cell_type": "markdown",
      "metadata": {
        "id": "hxiB1_RI4IVR"
      },
      "source": [
        "## Error Analysis"
      ]
    },
    {
      "cell_type": "code",
      "metadata": {
        "id": "bBzK05Hl0JPt"
      },
      "source": [
        "def get_dest_logp(model, data, src_field, dest_field, device):\n",
        "    dest_logps = []\n",
        "    model.eval()\n",
        "    with torch.no_grad():\n",
        "        for i, data in tqdm.tqdm(enumerate(data), total=len(data)):\n",
        "            src_sequence, dest_sequence = src_field.process([data.src]), dest_field.process([data.trg])\n",
        "            src_sequence, dest_sequence = src_sequence.to(device), dest_sequence.to(device)\n",
        "            encoder_embedded, encoder_conved = model.encoder(src_sequence)\n",
        "            logps = []\n",
        "            for idx in range(dest_sequence.shape[0]):\n",
        "                logit, attn_weights = model.decoder(dest_sequence[:, :idx + 1], encoder_conved, encoder_embedded)\n",
        "                logp = F.log_softmax(logit[:, -1, :], dim=1).squeeze(dim=0)\n",
        "                logps.append(logp[-1].cpu().item()) # Get logp of ground truth ouput\n",
        "            dest_logps.append(sum(logps))\n",
        "    return dest_logps"
      ],
      "execution_count": 63,
      "outputs": []
    },
    {
      "cell_type": "code",
      "metadata": {
        "id": "LW9Dy_k84OtD",
        "outputId": "d687f6ce-e967-4691-8879-9fe6ac9be3bb",
        "colab": {
          "base_uri": "https://localhost:8080/",
          "height": 34
        }
      },
      "source": [
        "dest_logps = get_dest_logp(model=seq2seq, data=test_data, src_field=DE, dest_field=EN, device=DEVICE)\n",
        "assert len(pred_logps) == len(dest_logps) == len(test_data), f'{len(pred_logps)}, {len(dest_logps)}, {len(test_data)}'"
      ],
      "execution_count": 64,
      "outputs": [
        {
          "output_type": "stream",
          "text": [
            "100%|██████████| 1000/1000 [00:03<00:00, 299.53it/s]\n"
          ],
          "name": "stderr"
        }
      ]
    },
    {
      "cell_type": "code",
      "metadata": {
        "id": "ZL7sy0Pk4TVO",
        "outputId": "2342b7ad-a659-4e61-db55-24c3c5875049",
        "colab": {
          "base_uri": "https://localhost:8080/",
          "height": 51
        }
      },
      "source": [
        "beam_search_faults = np.array(dest_logps) > np.array(pred_logps)\n",
        "\n",
        "beam_search_fault_rate = beam_search_faults.sum() / beam_search_faults.size\n",
        "print(f'Beam search fault rate: {beam_search_fault_rate * 100:.3f}%')\n",
        "print(f'Model fault rate: {(1 - beam_search_fault_rate) * 100:.3f}%')"
      ],
      "execution_count": 65,
      "outputs": [
        {
          "output_type": "stream",
          "text": [
            "Beam search fault rate: 90.200%\n",
            "Model fault rate: 9.800%\n"
          ],
          "name": "stdout"
        }
      ]
    },
    {
      "cell_type": "code",
      "metadata": {
        "id": "0r8vxrZZ4WUu"
      },
      "source": [
        "beam_search_fault_indexes = np.where(beam_search_faults == True)[0]\n",
        "model_fault_indexes = np.where(beam_search_faults == False)[0]"
      ],
      "execution_count": 66,
      "outputs": []
    },
    {
      "cell_type": "code",
      "metadata": {
        "id": "DdxWM0SV4Wa-",
        "outputId": "60a0ff2a-8efb-44a3-ce23-7d393ca59572",
        "colab": {
          "base_uri": "https://localhost:8080/",
          "height": 417
        }
      },
      "source": [
        "for i in np.random.choice(beam_search_fault_indexes, size=5, replace=False):\n",
        "    html = f'<p><span><b>Source:</b> {sentences[i]}</span><br />'\n",
        "    html += f'<span style=\"color:green\"><b>Ground truth translation:</b> {dest_sentences[i]}</span><br />'\n",
        "    html += f'<span style=\"color:red\"><b>Predicted translation (Beam search fault):</b> {translated_sentences[i]}</span><br />'\n",
        "    display(HTML(html))\n",
        "    print('='*100)"
      ],
      "execution_count": 67,
      "outputs": [
        {
          "output_type": "display_data",
          "data": {
            "text/html": [
              "<p><span><b>Source:</b> ein hund springt um einen ball zu fangen , während ein anderer zusieht .</span><br /><span style=\"color:green\"><b>Ground truth translation:</b> one dog leaps to catch a softball while another looks on .</span><br /><span style=\"color:red\"><b>Predicted translation (Beam search fault):</b> a dog jumps to catch a ball while another looks on .</span><br />"
            ],
            "text/plain": [
              "<IPython.core.display.HTML object>"
            ]
          },
          "metadata": {
            "tags": []
          }
        },
        {
          "output_type": "stream",
          "text": [
            "====================================================================================================\n"
          ],
          "name": "stdout"
        },
        {
          "output_type": "display_data",
          "data": {
            "text/html": [
              "<p><span><b>Source:</b> eine gruppe von männern verwendet baumstämme , um ein boot aus dem wasser zu schieben .</span><br /><span style=\"color:green\"><b>Ground truth translation:</b> a group of men using logs to push a boat out of the water .</span><br /><span style=\"color:red\"><b>Predicted translation (Beam search fault):</b> a group of men using a <unk> to push a boat .</span><br />"
            ],
            "text/plain": [
              "<IPython.core.display.HTML object>"
            ]
          },
          "metadata": {
            "tags": []
          }
        },
        {
          "output_type": "stream",
          "text": [
            "====================================================================================================\n"
          ],
          "name": "stdout"
        },
        {
          "output_type": "display_data",
          "data": {
            "text/html": [
              "<p><span><b>Source:</b> kleines orchester spielt im freien mit einem gitarrenkoffer auf dem boden .</span><br /><span style=\"color:green\"><b>Ground truth translation:</b> small orchestra playing with open violin case in front</span><br /><span style=\"color:red\"><b>Predicted translation (Beam search fault):</b> a small orchestra is playing with a guitar on the ground .</span><br />"
            ],
            "text/plain": [
              "<IPython.core.display.HTML object>"
            ]
          },
          "metadata": {
            "tags": []
          }
        },
        {
          "output_type": "stream",
          "text": [
            "====================================================================================================\n"
          ],
          "name": "stdout"
        },
        {
          "output_type": "display_data",
          "data": {
            "text/html": [
              "<p><span><b>Source:</b> eine frau in einem knallrosa mantel steht vor einer vitamin shoppe-filiale und macht eine grimasse in richtung einer frau in einem violetten mantel .</span><br /><span style=\"color:green\"><b>Ground truth translation:</b> a woman wearing a bright pink overcoat makes a face to a woman wearing a purple overcoat while standing outside a vitamin shoppe .</span><br /><span style=\"color:red\"><b>Predicted translation (Beam search fault):</b> a woman in a <unk> coat stands in front of a <unk> <unk> and makes a face in a purple coat .</span><br />"
            ],
            "text/plain": [
              "<IPython.core.display.HTML object>"
            ]
          },
          "metadata": {
            "tags": []
          }
        },
        {
          "output_type": "stream",
          "text": [
            "====================================================================================================\n"
          ],
          "name": "stdout"
        },
        {
          "output_type": "display_data",
          "data": {
            "text/html": [
              "<p><span><b>Source:</b> ein junge spielt mit einem erwachsenen außerhalb des bildes dame während ein mädchen zusieht .</span><br /><span style=\"color:green\"><b>Ground truth translation:</b> a boy is playing checkers with an adult shown off - screen while a girl looks on .</span><br /><span style=\"color:red\"><b>Predicted translation (Beam search fault):</b> a boy is playing with an adult is outside of the frame of the frame .</span><br />"
            ],
            "text/plain": [
              "<IPython.core.display.HTML object>"
            ]
          },
          "metadata": {
            "tags": []
          }
        },
        {
          "output_type": "stream",
          "text": [
            "====================================================================================================\n"
          ],
          "name": "stdout"
        }
      ]
    },
    {
      "cell_type": "code",
      "metadata": {
        "id": "no6FwB8F4ZMB",
        "outputId": "4fc363c1-04eb-4ed9-e37e-dea9e7863490",
        "colab": {
          "base_uri": "https://localhost:8080/",
          "height": 417
        }
      },
      "source": [
        "for i in np.random.choice(model_fault_indexes, size=5, replace=False):\n",
        "    html = f'<p><span><b>Source:</b> {sentences[i]}</span><br />'\n",
        "    html += f'<span style=\"color:green\"><b>Ground truth translation:</b> {dest_sentences[i]}</span><br />'\n",
        "    html += f'<span style=\"color:blue\"><b>Predicted translation (Model fault):</b> {translated_sentences[i]}</span><br />'\n",
        "    display(HTML(html))\n",
        "    print('='*100)"
      ],
      "execution_count": 68,
      "outputs": [
        {
          "output_type": "display_data",
          "data": {
            "text/html": [
              "<p><span><b>Source:</b> ein mann in einer schwarzen jacke spielt in der öffentlichkeit gitarre .</span><br /><span style=\"color:green\"><b>Ground truth translation:</b> a man in a black jacket plays the guitar out in public .</span><br /><span style=\"color:blue\"><b>Predicted translation (Model fault):</b> a man in a black jacket is playing a guitar .</span><br />"
            ],
            "text/plain": [
              "<IPython.core.display.HTML object>"
            ]
          },
          "metadata": {
            "tags": []
          }
        },
        {
          "output_type": "stream",
          "text": [
            "====================================================================================================\n"
          ],
          "name": "stdout"
        },
        {
          "output_type": "display_data",
          "data": {
            "text/html": [
              "<p><span><b>Source:</b> zwei jungen spielen auf dem gehsteig .</span><br /><span style=\"color:green\"><b>Ground truth translation:</b> two boys are playing on the sidewalk .</span><br /><span style=\"color:blue\"><b>Predicted translation (Model fault):</b> two boys are playing on the sidewalk .</span><br />"
            ],
            "text/plain": [
              "<IPython.core.display.HTML object>"
            ]
          },
          "metadata": {
            "tags": []
          }
        },
        {
          "output_type": "stream",
          "text": [
            "====================================================================================================\n"
          ],
          "name": "stdout"
        },
        {
          "output_type": "display_data",
          "data": {
            "text/html": [
              "<p><span><b>Source:</b> ein mann in einem grünen shirt spaziert am strand mit seinen turnschuhen in der hand .</span><br /><span style=\"color:green\"><b>Ground truth translation:</b> a man in a green shirt is walking on the beach carrying his sneakers .</span><br /><span style=\"color:blue\"><b>Predicted translation (Model fault):</b> a man in a green shirt is walking on the beach with his sneakers .</span><br />"
            ],
            "text/plain": [
              "<IPython.core.display.HTML object>"
            ]
          },
          "metadata": {
            "tags": []
          }
        },
        {
          "output_type": "stream",
          "text": [
            "====================================================================================================\n"
          ],
          "name": "stdout"
        },
        {
          "output_type": "display_data",
          "data": {
            "text/html": [
              "<p><span><b>Source:</b> leute , die vor einem gebäude stehen .</span><br /><span style=\"color:green\"><b>Ground truth translation:</b> people standing outside of a building .</span><br /><span style=\"color:blue\"><b>Predicted translation (Model fault):</b> people standing in front of a building .</span><br />"
            ],
            "text/plain": [
              "<IPython.core.display.HTML object>"
            ]
          },
          "metadata": {
            "tags": []
          }
        },
        {
          "output_type": "stream",
          "text": [
            "====================================================================================================\n"
          ],
          "name": "stdout"
        },
        {
          "output_type": "display_data",
          "data": {
            "text/html": [
              "<p><span><b>Source:</b> ein blondes kind schaukelt auf einer schaukel .</span><br /><span style=\"color:green\"><b>Ground truth translation:</b> a blond child swinging on a swing .</span><br /><span style=\"color:blue\"><b>Predicted translation (Model fault):</b> a blond - haired child is swinging on a swing .</span><br />"
            ],
            "text/plain": [
              "<IPython.core.display.HTML object>"
            ]
          },
          "metadata": {
            "tags": []
          }
        },
        {
          "output_type": "stream",
          "text": [
            "====================================================================================================\n"
          ],
          "name": "stdout"
        }
      ]
    },
    {
      "cell_type": "code",
      "metadata": {
        "id": "Inv0ZYXO4b7D",
        "outputId": "9f406087-6233-4ad9-ffda-14719396e9e1",
        "colab": {
          "base_uri": "https://localhost:8080/",
          "height": 336
        }
      },
      "source": [
        "lengths = np.array([*map(len, dest_sentences)])\n",
        "\n",
        "_, axes = plt.subplots(1, 2, figsize=(12, 5))\n",
        "axes[0].hist(lengths[beam_search_fault_indexes])\n",
        "axes[0].set_title('Lengths of beam search faults')\n",
        "axes[0].grid(True)\n",
        "axes[1].hist(lengths[model_fault_indexes])\n",
        "axes[1].set_title('Lengths of model faults')\n",
        "axes[1].grid(True)\n",
        "plt.show()"
      ],
      "execution_count": 69,
      "outputs": [
        {
          "output_type": "display_data",
          "data": {
            "image/png": "[encoded data removed]",
            "text/plain": [
              "<Figure size 864x360 with 2 Axes>"
            ]
          },
          "metadata": {
            "tags": [],
            "needs_background": "light"
          }
        }
      ]
    },
    {
      "cell_type": "code",
      "metadata": {
        "id": "NwA98-6ZejVu"
      },
      "source": [
        ""
      ],
      "execution_count": null,
      "outputs": []
    }
  ]
}