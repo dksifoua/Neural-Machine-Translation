{
  "nbformat": 4,
  "nbformat_minor": 0,
  "metadata": {
    "colab": {
      "name": "2 -  SeqToSeq Model with Badhanau Attention.ipynb",
      "provenance": [],
      "collapsed_sections": [],
      "authorship_tag": "ABX9TyMBfSiueeKVjx1OJJzkBwfm",
      "include_colab_link": true
    },
    "kernelspec": {
      "name": "python3",
      "display_name": "Python 3"
    },
    "accelerator": "GPU"
  },
  "cells": [
    {
      "cell_type": "markdown",
      "metadata": {
        "id": "view-in-github",
        "colab_type": "text"
      },
      "source": [
        "<a href=\"https://colab.research.google.com/github/dksifoua/Neural-Machine-Translation/blob/master/2%20-%20SeqToSeq%20Model%20with%20Badhanau%20Attention.ipynb\" target=\"_parent\"><img src=\"https://colab.research.google.com/assets/colab-badge.svg\" alt=\"Open In Colab\"/></a>"
      ]
    },
    {
      "cell_type": "code",
      "metadata": {
        "id": "A3Bbm9MSP6Yk",
        "outputId": "29fafc6a-8177-4a42-dac5-c3e80ceb1305",
        "colab": {
          "base_uri": "https://localhost:8080/",
          "height": 357
        }
      },
      "source": [
        "!nvidia-smi"
      ],
      "execution_count": 1,
      "outputs": [
        {
          "output_type": "stream",
          "text": [
            "Tue Sep 29 01:03:38 2020       \n",
            "+-----------------------------------------------------------------------------+\n",
            "| NVIDIA-SMI 450.66       Driver Version: 418.67       CUDA Version: 10.1     |\n",
            "|-------------------------------+----------------------+----------------------+\n",
            "| GPU  Name        Persistence-M| Bus-Id        Disp.A | Volatile Uncorr. ECC |\n",
            "| Fan  Temp  Perf  Pwr:Usage/Cap|         Memory-Usage | GPU-Util  Compute M. |\n",
            "|                               |                      |               MIG M. |\n",
            "|===============================+======================+======================|\n",
            "|   0  Tesla P100-PCIE...  Off  | 00000000:00:04.0 Off |                    0 |\n",
            "| N/A   33C    P0    26W / 250W |      0MiB / 16280MiB |      0%      Default |\n",
            "|                               |                      |                 ERR! |\n",
            "+-------------------------------+----------------------+----------------------+\n",
            "                                                                               \n",
            "+-----------------------------------------------------------------------------+\n",
            "| Processes:                                                                  |\n",
            "|  GPU   GI   CI        PID   Type   Process name                  GPU Memory |\n",
            "|        ID   ID                                                   Usage      |\n",
            "|=============================================================================|\n",
            "|  No running processes found                                                 |\n",
            "+-----------------------------------------------------------------------------+\n"
          ],
          "name": "stdout"
        }
      ]
    },
    {
      "cell_type": "markdown",
      "metadata": {
        "id": "CuNqn2TkS1T5"
      },
      "source": [
        "## Load dependencies"
      ]
    },
    {
      "cell_type": "code",
      "metadata": {
        "id": "dfQk37UUQi2T"
      },
      "source": [
        "!pip install tqdm --upgrade >> /dev/null 2>&1\n",
        "!pip install torchtext --upgrade >> /dev/null 2>&1\n",
        "!pip install spacy --upgrade >> /dev/null 2>&1\n",
        "!python -m spacy download de >> /dev/null 2>&1\n",
        "!python -m spacy download en >> /dev/null 2>&1"
      ],
      "execution_count": 2,
      "outputs": []
    },
    {
      "cell_type": "code",
      "metadata": {
        "id": "zku7rzrTSE1j"
      },
      "source": [
        "import tqdm\n",
        "import spacy\n",
        "import warnings\n",
        "import numpy as np\n",
        "import pandas as pd\n",
        "import matplotlib.pyplot as plt\n",
        "%matplotlib inline\n",
        "\n",
        "from IPython.core.display import display, HTML\n",
        "\n",
        "import torch\n",
        "import torch.nn as nn\n",
        "import torch.nn.functional as F\n",
        "import torch.optim as optim\n",
        "\n",
        "from torchtext.data import Dataset, Example, Field\n",
        "from torchtext.data.iterator import BucketIterator\n",
        "from torchtext.data.metrics import bleu_score\n",
        "from torchtext.datasets import Multi30k"
      ],
      "execution_count": 3,
      "outputs": []
    },
    {
      "cell_type": "code",
      "metadata": {
        "id": "-rfDBpyrS7Pq",
        "outputId": "ead22f66-b5e4-4305-8f80-43d52625eb9c",
        "colab": {
          "base_uri": "https://localhost:8080/",
          "height": 34
        }
      },
      "source": [
        "warnings.simplefilter(action='ignore', category=UserWarning)\n",
        "warnings.simplefilter(action='ignore', category=FutureWarning)\n",
        "warnings.simplefilter(action='ignore', category=DeprecationWarning)\n",
        "\n",
        "SEED = 546\n",
        "np.random.seed(SEED)\n",
        "torch.manual_seed(SEED)\n",
        "torch.cuda.manual_seed(SEED)\n",
        "torch.backends.cudnn.deterministic = True\n",
        "\n",
        "DEVICE = torch.device('cuda' if torch.cuda.is_available() else 'cpu')\n",
        "print(f'Device: {DEVICE}')"
      ],
      "execution_count": 4,
      "outputs": [
        {
          "output_type": "stream",
          "text": [
            "Device: cuda\n"
          ],
          "name": "stdout"
        }
      ]
    },
    {
      "cell_type": "markdown",
      "metadata": {
        "id": "kjwVYEBoTEl7"
      },
      "source": [
        "## Load data"
      ]
    },
    {
      "cell_type": "code",
      "metadata": {
        "id": "P3kizhFZTAdP",
        "outputId": "852b4e2f-e804-4580-f477-934dfab52c41",
        "colab": {
          "base_uri": "https://localhost:8080/",
          "height": 241
        }
      },
      "source": [
        "%%time\n",
        "DE = Field(lower=True, tokenize='spacy', tokenizer_language='de', include_lengths=True)\n",
        "EN = Field(init_token='<sos>', eos_token='<eos>', lower=True, tokenize='spacy', tokenizer_language='en', include_lengths=True)\n",
        "train_data, valid_data, test_data = Multi30k.splits(exts=('.de', '.en'),  fields=(DE, EN))\n",
        "print(f'train set size: {len(train_data.examples):,}')\n",
        "print(f'valid set size: {len(valid_data.examples):,}')\n",
        "print(f'test set size: {len(test_data.examples):,}')\n",
        "print(vars(train_data.examples[0]))"
      ],
      "execution_count": 5,
      "outputs": [
        {
          "output_type": "stream",
          "text": [
            "\rtraining.tar.gz:   0%|          | 0.00/1.21M [00:00<?, ?B/s]"
          ],
          "name": "stderr"
        },
        {
          "output_type": "stream",
          "text": [
            "downloading training.tar.gz\n"
          ],
          "name": "stdout"
        },
        {
          "output_type": "stream",
          "text": [
            "training.tar.gz: 100%|██████████| 1.21M/1.21M [00:00<00:00, 5.15MB/s]\n",
            "validation.tar.gz: 100%|██████████| 46.3k/46.3k [00:00<00:00, 1.44MB/s]"
          ],
          "name": "stderr"
        },
        {
          "output_type": "stream",
          "text": [
            "downloading validation.tar.gz\n",
            "downloading mmt_task1_test2016.tar.gz\n"
          ],
          "name": "stdout"
        },
        {
          "output_type": "stream",
          "text": [
            "\n",
            "mmt_task1_test2016.tar.gz: 100%|██████████| 66.2k/66.2k [00:00<00:00, 1.31MB/s]\n"
          ],
          "name": "stderr"
        },
        {
          "output_type": "stream",
          "text": [
            "train set size: 29,000\n",
            "valid set size: 1,014\n",
            "test set size: 1,000\n",
            "{'src': ['zwei', 'junge', 'weiße', 'männer', 'sind', 'im', 'freien', 'in', 'der', 'nähe', 'vieler', 'büsche', '.'], 'trg': ['two', 'young', ',', 'white', 'males', 'are', 'outside', 'near', 'many', 'bushes', '.']}\n",
            "CPU times: user 5.48 s, sys: 171 ms, total: 5.65 s\n",
            "Wall time: 6.34 s\n"
          ],
          "name": "stdout"
        }
      ]
    },
    {
      "cell_type": "markdown",
      "metadata": {
        "id": "Qfjuxu1QTtoP"
      },
      "source": [
        "## Build vocabularies"
      ]
    },
    {
      "cell_type": "code",
      "metadata": {
        "id": "PvuBC8xKTZJf",
        "outputId": "53115574-93fa-4c2b-d39e-e5790103d6e0",
        "colab": {
          "base_uri": "https://localhost:8080/",
          "height": 85
        }
      },
      "source": [
        "%%time\n",
        "MIN_COUNT = 2\n",
        "DE.build_vocab(train_data, min_freq=MIN_COUNT, specials=['<unk>', '<pad>'])\n",
        "EN.build_vocab(train_data, min_freq=MIN_COUNT, specials=['<sos>', '<eos>', '<unk>', '<pad>'])\n",
        "print(f'Length of DE vocabulary: {len(DE.vocab):,}')\n",
        "print(f'Length of EN vocabulary: {len(EN.vocab):,}')"
      ],
      "execution_count": 6,
      "outputs": [
        {
          "output_type": "stream",
          "text": [
            "Length of DE vocabulary: 7,852\n",
            "Length of EN vocabulary: 5,893\n",
            "CPU times: user 271 ms, sys: 0 ns, total: 271 ms\n",
            "Wall time: 273 ms\n"
          ],
          "name": "stdout"
        }
      ]
    },
    {
      "cell_type": "markdown",
      "metadata": {
        "id": "C1-SpXqDT72P"
      },
      "source": [
        "## Modeling\n",
        "\n",
        "**Encoder layer**"
      ]
    },
    {
      "cell_type": "code",
      "metadata": {
        "id": "QOZS6pPqT7Ba"
      },
      "source": [
        "class EncoderLayer(nn.Module):\n",
        "\n",
        "    def __init__(self, vocab_size, embedding_size, hidden_size, n_layers, embedding_dropout, recurrent_dropout):\n",
        "        super(EncoderLayer, self).__init__()\n",
        "        self.vocab_size = vocab_size\n",
        "        self.embedding_size = embedding_size\n",
        "        self.hidden_size = hidden_size\n",
        "        self.n_layers = n_layers\n",
        "        self.embedding_dropout = embedding_dropout\n",
        "        self.recurrent_dropout = recurrent_dropout if n_layers > 1 else 0\n",
        "        self.embedding = nn.Embedding(vocab_size, embedding_size)\n",
        "        self.gru = nn.GRU(embedding_size, hidden_size, num_layers=n_layers, dropout=self.recurrent_dropout, bidirectional=True)\n",
        "\n",
        "    def forward(self, input_sequences, sequence_lengths):\n",
        "        \"\"\"\n",
        "        :param Tensor[seq_len, batch_size] input_sequences\n",
        "        :param Tensor[batch_size,] sequence_lengths\n",
        "        :return Tensor[seq_len, batch_size, hidden_size * 2] outputs\n",
        "        :return Tensor[n_layers * 2, batch_size, hidden_size] h_state\n",
        "        \"\"\"\n",
        "        embedded = self.embedding(input_sequences)\n",
        "        embedded = F.dropout(embedded, p=self.embedding_dropout)\n",
        "        packed = nn.utils.rnn.pack_padded_sequence(embedded, sequence_lengths)\n",
        "        outputs, h_state = self.gru(packed)\n",
        "        outputs, _ = nn.utils.rnn.pad_packed_sequence(outputs)\n",
        "        return outputs, h_state"
      ],
      "execution_count": 7,
      "outputs": []
    },
    {
      "cell_type": "markdown",
      "metadata": {
        "id": "_SlIGbht2nDZ"
      },
      "source": [
        "**Attention layer**"
      ]
    },
    {
      "cell_type": "code",
      "metadata": {
        "id": "3aZItFus2mXf"
      },
      "source": [
        "class BadhanauAttnLayer(nn.Module):\n",
        "\n",
        "    def __init__(self, hidden_size, n_layers):\n",
        "        super(BadhanauAttnLayer, self).__init__()\n",
        "        self.hidden_size = hidden_size\n",
        "        self.n_layers = n_layers\n",
        "        self.fc = nn.Linear(n_layers, 1)\n",
        "        self.W1 = nn.Linear(hidden_size * 2, hidden_size)\n",
        "        self.W2 = nn.Linear(hidden_size, hidden_size)\n",
        "        self.V = nn.Linear(hidden_size, 1)\n",
        "\n",
        "    def combine_hidden_state(self, h_state):\n",
        "        if self.n_layers > 1:\n",
        "            h_state = h_state.permute(1, 2, 0) # [batch_size, hidden_size, n_layers]\n",
        "            h_state = self.fc(h_state) # [batch_size, hidden_size, 1]\n",
        "            h_state = h_state.permute(2, 0, 1) # [1, batch_size, hidden_size]\n",
        "        return h_state\n",
        "\n",
        "    def forward(self, h_state, enc_outputs, mask):\n",
        "        \"\"\"\n",
        "        :params Tensor[n_layers, batch_size, hidden_size] h_state\n",
        "        :params Tensor[seq_len, batch_size, hidden_size * 2] enc_outputs\n",
        "        :params Tensor[seq_len, batch_size] mask\n",
        "        :return Tensor[seq_len, batch_size, 1]\n",
        "        \"\"\"\n",
        "        h_state = h_state[-1:, :, :] # [1, batch_size, hidden_size]\n",
        "        scores = self.V(torch.tanh(self.W1(enc_outputs) + self.W2(h_state))) # [seq_len, batch_size, 1] alignment scores\n",
        "        mask = mask.unsqueeze(2) # [seq_len, batch_size, 1]\n",
        "        scores = scores.masked_fill(mask == 0, 1e-18) # Apply mask to ignore <pad> tokens\n",
        "        attn_weights = F.softmax(scores, dim=0) # [seq_len, batch_size, 1] attention weights\n",
        "        return attn_weights"
      ],
      "execution_count": 8,
      "outputs": []
    },
    {
      "cell_type": "markdown",
      "metadata": {
        "id": "ALcFgkFzUMX3"
      },
      "source": [
        "**Decoder layer**"
      ]
    },
    {
      "cell_type": "code",
      "metadata": {
        "id": "-MMyNs5aUOcM"
      },
      "source": [
        "class DecoderLayer(nn.Module):\n",
        "\n",
        "    def __init__(self, vocab_size, embedding_size, hidden_size, n_layers, embedding_dropout, recurrent_dropout, attention_layer):\n",
        "        super(DecoderLayer, self).__init__()\n",
        "        self.vocab_size = vocab_size\n",
        "        self.embedding_size = embedding_size\n",
        "        self.hidden_size = hidden_size\n",
        "        self.n_layers = n_layers\n",
        "        self.embedding_dropout = embedding_dropout\n",
        "        self.recurrent_dropout = recurrent_dropout if n_layers > 1 else 0\n",
        "        self.attention_layer = attention_layer\n",
        "        self.embedding = nn.Embedding(vocab_size, embedding_size)\n",
        "        self.gru = nn.GRU(embedding_size + hidden_size * 2, hidden_size, num_layers=n_layers, dropout=self.recurrent_dropout)\n",
        "        self.fc = nn.Linear(hidden_size, vocab_size)\n",
        "\n",
        "    def forward(self, input_word_index, h_state_prev, enc_outputs, mask):\n",
        "        \"\"\"\n",
        "        :param Tensor[batch_size,] input_word_index\n",
        "        :param Tensor[n_layers, batch_size, hidden_size] h_state_prev\n",
        "        :param Tensor[seq_len, batch_size, hidden_size * 2] enc_outputs\n",
        "        :param Tensor[seq_len, batch_size] mask\n",
        "        :return Tensor[batch_size, vocab_size] logit\n",
        "        :return Tensor[n_layers, batch_size, hidden_size] h_state\n",
        "        :return Tensor[batch_size, seq_len] attn_weights\n",
        "        \"\"\"\n",
        "        embedded = self.embedding(input_word_index.unsqueeze(0))\n",
        "        embedded = F.dropout(embedded, p=self.embedding_dropout)\n",
        "        attn_weights = self.attention_layer(h_state=h_state_prev, enc_outputs=enc_outputs, mask=mask) # [seq_len, batch_size, 1]\n",
        "        context_vector = torch.sum(enc_outputs * attn_weights, dim=0).unsqueeze(0) # [1, batch_size, hidden_size * 2]\n",
        "        new_input = torch.cat((embedded, context_vector), dim=2) # [1, batch_size, hidden_size * 2 + emdedding_size] New input\n",
        "        outputs, h_state = self.gru(new_input, h_state_prev)\n",
        "        logit = self.fc(outputs.squeeze(0))\n",
        "        return logit, h_state, attn_weights.squeeze(2)"
      ],
      "execution_count": 9,
      "outputs": []
    },
    {
      "cell_type": "markdown",
      "metadata": {
        "id": "eaB7LsPWUO94"
      },
      "source": [
        "**Sequence-to-sequence model**"
      ]
    },
    {
      "cell_type": "code",
      "metadata": {
        "id": "Ttc82wRxUTuj"
      },
      "source": [
        "class SeqToSeqNet(nn.Module):\n",
        "\n",
        "    def __init__(self, encoder, decoder, device, pad_index):\n",
        "        assert encoder.n_layers == decoder.n_layers, 'Encoder and Decoder must have the same number of reccurent layers'\n",
        "        assert encoder.hidden_size == decoder.hidden_size, 'Encoder and Decoder must have the same number of reccurrent hidden units'\n",
        "        super(SeqToSeqNet, self).__init__()\n",
        "        self.encoder = encoder\n",
        "        self.decoder = decoder\n",
        "        self.device = device\n",
        "        self.pad_index = pad_index\n",
        "        self.init_h0 = nn.Linear(encoder.n_layers * 2, decoder.n_layers)\n",
        "    \n",
        "    def create_mask(self, src_sequences):\n",
        "        return src_sequences != self.pad_index\n",
        "\n",
        "    def encode(self, input_sequences, sequence_lengths):\n",
        "        enc_outputs, h_state = self.encoder(input_sequences, sequence_lengths)\n",
        "        h_state = torch.tanh(self.init_h0(h_state.permute(1, 2, 0))) # [batch_size, hidden_size, n_layers]\n",
        "        h_state = h_state.permute(2, 0, 1) # [n_layers, batch_size, hidden_size]\n",
        "        mask = self.create_mask(input_sequences) # [seq_len, batch_size]\n",
        "        return enc_outputs, h_state, mask\n",
        "\n",
        "    def sort_batches(self, dest_sequences, dest_lengths, h_state, enc_outputs, mask):\n",
        "        sorted_dest_lengths, sorted_indices = torch.sort(dest_lengths, dim=0, descending=True)\n",
        "        sorted_dest_sequences = dest_sequences[:, sorted_indices]\n",
        "        h_state = h_state[:, sorted_indices, :]\n",
        "        enc_outputs = enc_outputs[:, sorted_indices, :]\n",
        "        mask = mask[:, sorted_indices]\n",
        "        # We won't decode at the <eos> position, since we've finished generating as soon as we generate <eos>.\n",
        "        # So, decoding lengths are actual lengths - 1\n",
        "        sorted_decode_lengths = (sorted_dest_lengths - 1).tolist() \n",
        "        return sorted_dest_sequences, sorted_decode_lengths, h_state, enc_outputs, mask\n",
        "\n",
        "    def decode(self, h_state, enc_outputs, mask, sorted_dest_sequences, sorted_decode_lengths, tf_ratio):\n",
        "        batch_size, last = sorted_dest_sequences.size(1), None\n",
        "        logits = torch.zeros(max(sorted_decode_lengths), batch_size, self.decoder.vocab_size).to(self.device)\n",
        "        for t in range(max(sorted_decode_lengths)):\n",
        "            batch_size_t = sum([l > t for l in sorted_decode_lengths])\n",
        "            if last is not None:\n",
        "                if np.random.rand() < tf_ratio:\n",
        "                    input_word_index = last[:batch_size_t] # in_ [batch_size,]\n",
        "                else:\n",
        "                    input_word_index = sorted_dest_sequences[t, :batch_size_t] # in_ [batch_size,]\n",
        "            else:\n",
        "                input_word_index = sorted_dest_sequences[t, :batch_size_t] # in_ [batch_size,]\n",
        "            logit, h_state, _ = self.decoder(input_word_index=input_word_index,\n",
        "                                             h_state_prev=h_state[:, :batch_size_t, :].contiguous(),\n",
        "                                             enc_outputs=enc_outputs[:, :batch_size_t, :],\n",
        "                                             mask=mask[:, :batch_size_t])\n",
        "            # logit: [batch_size, vocab_size] - h_state: [n_layers, batch_size, hidden_size]\n",
        "            logits[t, :batch_size_t, :] = logit\n",
        "            last = torch.argmax(F.softmax(logit, dim=1), dim=1) # [batch_size,]\n",
        "        return logits\n",
        "    \n",
        "    def forward(self, src_sequences, src_lengths, dest_sequences, dest_lengths, tf_ratio):\n",
        "        \"\"\"\n",
        "        :param Tensor[seq_len, batch_size] src_sequences\n",
        "        :param Tensor[batch_size,] src_lengths\n",
        "        :param Tensor[seq_len, batch_size] dest_sequences\n",
        "        :param Tensor[batch_size,] dest_lengths\n",
        "        :param float tf_ratio\n",
        "        :return Tensor[max(decode_lengths), batch_size, vocab_size] logits\n",
        "        :return Tensor[seq_len, batch_size] sorted_dest_sequences\n",
        "        :return list[max(decode_lengths) - 1] sorted_decode_lengths\n",
        "        \"\"\"\n",
        "        enc_outputs, h_state, mask = self.encode(src_sequences, src_lengths)\n",
        "        sorted_dest_sequences, sorted_decode_lengths, h_state, enc_outputs, mask = self.sort_batches(dest_sequences, dest_lengths, h_state, enc_outputs, mask)\n",
        "        logits = self.decode(h_state, enc_outputs, mask, sorted_dest_sequences, sorted_decode_lengths, tf_ratio)\n",
        "        return logits, sorted_dest_sequences, sorted_decode_lengths"
      ],
      "execution_count": 10,
      "outputs": []
    },
    {
      "cell_type": "markdown",
      "metadata": {
        "id": "CzVIUeL2cAsz"
      },
      "source": [
        "**Training routines**"
      ]
    },
    {
      "cell_type": "code",
      "metadata": {
        "id": "5VPQdzdrddUu"
      },
      "source": [
        "class AverageMeter:\n",
        "    \n",
        "    def __init__(self):\n",
        "        self.value = 0.\n",
        "        self.sum = 0.\n",
        "        self.count = 0\n",
        "        self.average = 0.\n",
        "        \n",
        "    def reset(self):\n",
        "        self.value = 0.\n",
        "        self.sum = 0.\n",
        "        self.count = 0\n",
        "        self.average = 0.\n",
        "        \n",
        "    def update(self, value, n=1):\n",
        "        self.value = value\n",
        "        self.sum += value * n\n",
        "        self.count += n\n",
        "        self.average = self.sum / self.count"
      ],
      "execution_count": 11,
      "outputs": []
    },
    {
      "cell_type": "code",
      "metadata": {
        "id": "a4aTFulSfGTf"
      },
      "source": [
        "def accuracy(outputs, target_sequences, k=5):\n",
        "    batch_size = outputs.size(1)\n",
        "    _, indices = outputs.topk(k, dim=1, largest=True, sorted=True)\n",
        "    correct = indices.eq(target_sequences.view(-1, 1).expand_as(indices))\n",
        "    correct_total = correct.view(-1).float().sum()  # 0D tensor\n",
        "    return correct_total.item() * (100.0 / batch_size)"
      ],
      "execution_count": 12,
      "outputs": []
    },
    {
      "cell_type": "code",
      "metadata": {
        "id": "hCsp-2Fvb_li"
      },
      "source": [
        "class Trainer:\n",
        "\n",
        "    def __init__(self, model, optimizer, criterion, train_iterator, valid_iterator):\n",
        "        self.model = model\n",
        "        self.optimizer = optimizer\n",
        "        self.criterion = criterion\n",
        "        self.train_iterator = train_iterator\n",
        "        self.valid_iterator = valid_iterator\n",
        "\n",
        "    def clip_gradients(self, grad_clip):\n",
        "        if grad_clip is not None:\n",
        "            for group in self.optimizer.param_groups:\n",
        "                for param in group['params']:\n",
        "                    if param.grad is not None:\n",
        "                        param.grad.data.clamp_(-grad_clip, grad_clip)\n",
        "\n",
        "    def adjust_lr(self, shrink_factor=0.9, verbose=True):\n",
        "        if verbose:\n",
        "            print(\"\\nDecaying learning rate.\")\n",
        "        for param_group in self.optimizer.param_groups:\n",
        "            param_group['lr'] = param_group['lr'] * shrink_factor\n",
        "        if verbose:\n",
        "            print(\"The new learning rate is %f\\n\" % (self.optimizer.param_groups[0]['lr'],))\n",
        "    \n",
        "    def adjust_tf(self, tf_ratio, shrink_factor=0.9, verbose=False):\n",
        "        tf_ratio = tf_ratio * shrink_factor\n",
        "        if verbose:\n",
        "            print(\"The teacher forcing rate is %f\\n\" % (tf_ratio,))\n",
        "        return tf_ratio\n",
        "    \n",
        "    def train_step(self, epoch, grad_clip, tf_ratio):\n",
        "        loss_tracker, acc_tracker = AverageMeter(), AverageMeter()\n",
        "        self.model.train()\n",
        "        progress_bar = tqdm.tqdm(enumerate(self.train_iterator), total=len(self.train_iterator))\n",
        "        for i, data in progress_bar:\n",
        "            logits, sorted_dest_sequences, sorted_decode_lengths = self.model(*data.src, *data.trg, tf_ratio=tf_ratio)\n",
        "            sorted_dest_sequences = sorted_dest_sequences[1:, :] # Since we decoded starting with <sos>, the targets are all words after <sos>, up to <eos>\n",
        "            logits = nn.utils.rnn.pack_padded_sequence(logits, sorted_decode_lengths).data # Remove paddings\n",
        "            sorted_dest_sequences = nn.utils.rnn.pack_padded_sequence(sorted_dest_sequences, sorted_decode_lengths).data # Remove paddings\n",
        "            loss = criterion(logits, sorted_dest_sequences)\n",
        "            optimizer.zero_grad()\n",
        "            loss.backward()\n",
        "            self.clip_gradients(grad_clip)\n",
        "            optimizer.step()\n",
        "            loss_tracker.update(loss.item(), sum(sorted_decode_lengths))\n",
        "            acc_tracker.update(accuracy(logits, sorted_dest_sequences), sum(sorted_decode_lengths))\n",
        "            loss_, ppl_, acc_ = loss_tracker.average, np.exp(loss_tracker.average), acc_tracker.average\n",
        "            progress_bar.set_description(f'Epoch: {epoch+1:02d} -     loss: {loss_:.3f} -     ppl: {ppl_:.3f} -     acc: {acc_:.3f}%')\n",
        "        return loss_tracker.average, np.exp(loss_tracker.average), acc_tracker.average\n",
        "    \n",
        "    def validate(self, epoch):\n",
        "        loss_tracker, acc_tracker = AverageMeter(), AverageMeter()\n",
        "        self.model.eval()\n",
        "        with torch.no_grad():\n",
        "            progress_bar = tqdm.tqdm(enumerate(self.valid_iterator), total=len(self.valid_iterator))\n",
        "            for i, data in progress_bar:\n",
        "                logits, sorted_dest_sequences, sorted_decode_lengths = self.model(*data.src, *data.trg, tf_ratio=0.)\n",
        "                sorted_dest_sequences = sorted_dest_sequences[1:, :]\n",
        "                logits = nn.utils.rnn.pack_padded_sequence(logits, sorted_decode_lengths).data\n",
        "                sorted_dest_sequences = nn.utils.rnn.pack_padded_sequence(sorted_dest_sequences, sorted_decode_lengths).data\n",
        "                loss = criterion(logits, sorted_dest_sequences)\n",
        "                loss_tracker.update(loss.item(), sum(sorted_decode_lengths))\n",
        "                acc_tracker.update(accuracy(logits, sorted_dest_sequences), sum(sorted_decode_lengths))\n",
        "                loss_, ppl_, acc_ = loss_tracker.average, np.exp(loss_tracker.average), acc_tracker.average\n",
        "                progress_bar.set_description(f'Epoch: {epoch+1:02d} - val_loss: {loss_:.3f} - val_ppl: {ppl_:.3f} - val_acc: {acc_:.3f}%')\n",
        "        return loss_tracker.average, np.exp(loss_tracker.average), acc_tracker.average\n",
        "    \n",
        "    def train(self, n_epochs, grad_clip, tf_ratio):\n",
        "        history = {'acc': [], 'loss': [], 'ppl': [], 'val_ppl': [], 'val_acc': [], 'val_loss': []}\n",
        "        best_loss, last_improv = np.inf, 0\n",
        "        for epoch in range(n_epochs):\n",
        "            if last_improv == 4:\n",
        "                print('Training Finished - The model has stopped improving since last 4 epochs')\n",
        "                break\n",
        "            if last_improv > 0:\n",
        "                self.adjust_lr()\n",
        "            loss, ppl, acc = self.train_step(epoch, grad_clip, tf_ratio)\n",
        "            val_loss, val_ppl, val_acc = self.validate(epoch)\n",
        "            tf_ratio = self.adjust_tf(tf_ratio)\n",
        "            \n",
        "            if best_loss > val_loss:\n",
        "                best_loss, last_improv = val_loss, 0\n",
        "                torch.save(self.model.state_dict(), 'seq2seq-badhanau-attn.pth')\n",
        "            else:\n",
        "                last_improv += 1\n",
        "                print(f'\\nLast improvement since epoch {epoch - last_improv + 1}')\n",
        "            \n",
        "            history['acc'].append(acc)\n",
        "            history['ppl'].append(ppl)\n",
        "            history['loss'].append(loss)\n",
        "            history['val_acc'].append(val_acc)\n",
        "            history['val_ppl'].append(val_ppl)\n",
        "            history['val_loss'].append(val_loss)\n",
        "        return history"
      ],
      "execution_count": 13,
      "outputs": []
    },
    {
      "cell_type": "markdown",
      "metadata": {
        "id": "adURzNzWkthV"
      },
      "source": [
        "**Train the model**"
      ]
    },
    {
      "cell_type": "code",
      "metadata": {
        "id": "B9ghlNzJkrCH"
      },
      "source": [
        "N_LAYERS = 2\n",
        "HIDDEN_SIZE = 256\n",
        "EMBED_SIZE = 300\n",
        "EMBED_DROPOUT = 0.25\n",
        "REC_DROPOUT = 0.25\n",
        "N_EPOCHS = 10\n",
        "BATCH_SIZE = 64\n",
        "LR = 1e-3\n",
        "GRAD_CLIP = 1.0\n",
        "TF_RATIO = 1.0"
      ],
      "execution_count": 14,
      "outputs": []
    },
    {
      "cell_type": "code",
      "metadata": {
        "id": "3N7Sttcdk39H",
        "outputId": "fc616a85-c886-4d0a-a23a-4ec7efd00ba0",
        "colab": {
          "base_uri": "https://localhost:8080/",
          "height": 340
        }
      },
      "source": [
        "encoder = EncoderLayer(vocab_size=len(DE.vocab), embedding_size=EMBED_SIZE, hidden_size=HIDDEN_SIZE, n_layers=N_LAYERS,\n",
        "                       embedding_dropout=EMBED_DROPOUT, recurrent_dropout=REC_DROPOUT)\n",
        "attention = BadhanauAttnLayer(hidden_size=HIDDEN_SIZE, n_layers=N_LAYERS)\n",
        "decoder = DecoderLayer(vocab_size=len(EN.vocab), embedding_size=EMBED_SIZE, hidden_size=HIDDEN_SIZE, n_layers=N_LAYERS,\n",
        "                       embedding_dropout=EMBED_DROPOUT, recurrent_dropout=REC_DROPOUT, attention_layer=attention)\n",
        "seq2seq = SeqToSeqNet(encoder=encoder, decoder=decoder, device=DEVICE, pad_index=EN.vocab.stoi[EN.pad_token]).to(DEVICE)\n",
        "optimizer = optim.RMSprop(params=seq2seq.parameters(), lr=LR)\n",
        "criterion = nn.CrossEntropyLoss()\n",
        "print(f'Number of parameters of the model: {sum(p.numel() for p in seq2seq.parameters() if p.requires_grad):,}')\n",
        "print(seq2seq)\n",
        "train_iterator, valid_iterator, test_iterator =  BucketIterator.splits((train_data, valid_data, test_data),\n",
        "                                                                       batch_size=BATCH_SIZE,\n",
        "                                                                       sort_key=lambda x: len(x.src),\n",
        "                                                                       sort_within_batch=True, device=DEVICE)\n",
        "trainer = Trainer(model=seq2seq, optimizer=optimizer, criterion=criterion, train_iterator=train_iterator, valid_iterator=valid_iterator)"
      ],
      "execution_count": 15,
      "outputs": [
        {
          "output_type": "stream",
          "text": [
            "Number of parameters of the model: 9,091,711\n",
            "SeqToSeqNet(\n",
            "  (encoder): EncoderLayer(\n",
            "    (embedding): Embedding(7852, 300)\n",
            "    (gru): GRU(300, 256, num_layers=2, dropout=0.25, bidirectional=True)\n",
            "  )\n",
            "  (decoder): DecoderLayer(\n",
            "    (attention_layer): BadhanauAttnLayer(\n",
            "      (fc): Linear(in_features=2, out_features=1, bias=True)\n",
            "      (W1): Linear(in_features=512, out_features=256, bias=True)\n",
            "      (W2): Linear(in_features=256, out_features=256, bias=True)\n",
            "      (V): Linear(in_features=256, out_features=1, bias=True)\n",
            "    )\n",
            "    (embedding): Embedding(5893, 300)\n",
            "    (gru): GRU(812, 256, num_layers=2, dropout=0.25)\n",
            "    (fc): Linear(in_features=256, out_features=5893, bias=True)\n",
            "  )\n",
            "  (init_h0): Linear(in_features=4, out_features=2, bias=True)\n",
            ")\n"
          ],
          "name": "stdout"
        }
      ]
    },
    {
      "cell_type": "code",
      "metadata": {
        "id": "isE439WfmDJX",
        "outputId": "15919c38-f5c0-4058-afd2-b075b21ae311",
        "colab": {
          "base_uri": "https://localhost:8080/",
          "height": 357
        }
      },
      "source": [
        "history = trainer.train(n_epochs=N_EPOCHS, grad_clip=GRAD_CLIP, tf_ratio=TF_RATIO)"
      ],
      "execution_count": 16,
      "outputs": [
        {
          "output_type": "stream",
          "text": [
            "Epoch: 01 -     loss: 4.621 -     ppl: 101.601 -     acc: 7.151%: 100%|██████████| 454/454 [00:33<00:00, 13.39it/s]\n",
            "Epoch: 01 - val_loss: 3.989 - val_ppl: 54.008 - val_acc: 8.321%: 100%|██████████| 16/16 [00:00<00:00, 27.33it/s]\n",
            "Epoch: 02 -     loss: 3.924 -     ppl: 50.596 -     acc: 8.589%: 100%|██████████| 454/454 [00:33<00:00, 13.41it/s]\n",
            "Epoch: 02 - val_loss: 3.541 - val_ppl: 34.516 - val_acc: 9.234%: 100%|██████████| 16/16 [00:00<00:00, 27.32it/s]\n",
            "Epoch: 03 -     loss: 3.580 -     ppl: 35.864 -     acc: 9.263%: 100%|██████████| 454/454 [00:33<00:00, 13.50it/s]\n",
            "Epoch: 03 - val_loss: 3.221 - val_ppl: 25.045 - val_acc: 10.021%: 100%|██████████| 16/16 [00:00<00:00, 27.27it/s]\n",
            "Epoch: 04 -     loss: 3.311 -     ppl: 27.426 -     acc: 9.797%: 100%|██████████| 454/454 [00:34<00:00, 13.31it/s]\n",
            "Epoch: 04 - val_loss: 2.967 - val_ppl: 19.429 - val_acc: 10.470%: 100%|██████████| 16/16 [00:00<00:00, 26.52it/s]\n",
            "Epoch: 05 -     loss: 3.069 -     ppl: 21.510 -     acc: 10.301%: 100%|██████████| 454/454 [00:33<00:00, 13.43it/s]\n",
            "Epoch: 05 - val_loss: 2.804 - val_ppl: 16.513 - val_acc: 10.858%: 100%|██████████| 16/16 [00:00<00:00, 27.48it/s]\n",
            "Epoch: 06 -     loss: 2.864 -     ppl: 17.530 -     acc: 10.726%: 100%|██████████| 454/454 [00:33<00:00, 13.48it/s]\n",
            "Epoch: 06 - val_loss: 2.738 - val_ppl: 15.460 - val_acc: 11.115%: 100%|██████████| 16/16 [00:00<00:00, 26.36it/s]\n",
            "Epoch: 07 -     loss: 2.688 -     ppl: 14.703 -     acc: 11.081%: 100%|██████████| 454/454 [00:33<00:00, 13.54it/s]\n",
            "Epoch: 07 - val_loss: 2.639 - val_ppl: 14.001 - val_acc: 11.357%: 100%|██████████| 16/16 [00:00<00:00, 27.83it/s]\n",
            "Epoch: 08 -     loss: 2.524 -     ppl: 12.475 -     acc: 11.424%: 100%|██████████| 454/454 [00:33<00:00, 13.46it/s]\n",
            "Epoch: 08 - val_loss: 2.472 - val_ppl: 11.852 - val_acc: 11.681%: 100%|██████████| 16/16 [00:00<00:00, 27.16it/s]\n",
            "Epoch: 09 -     loss: 2.401 -     ppl: 11.033 -     acc: 11.682%: 100%|██████████| 454/454 [00:33<00:00, 13.38it/s]\n",
            "Epoch: 09 - val_loss: 2.433 - val_ppl: 11.396 - val_acc: 11.739%: 100%|██████████| 16/16 [00:00<00:00, 27.70it/s]\n",
            "Epoch: 10 -     loss: 2.258 -     ppl: 9.567 -     acc: 11.998%: 100%|██████████| 454/454 [00:33<00:00, 13.44it/s]\n",
            "Epoch: 10 - val_loss: 2.356 - val_ppl: 10.554 - val_acc: 11.911%: 100%|██████████| 16/16 [00:00<00:00, 26.98it/s]\n"
          ],
          "name": "stderr"
        }
      ]
    },
    {
      "cell_type": "code",
      "metadata": {
        "id": "t-8rAeqiqjd7",
        "outputId": "89e4563b-d9e6-4e78-81e9-1f47d24607d4",
        "colab": {
          "base_uri": "https://localhost:8080/",
          "height": 350
        }
      },
      "source": [
        "_, axes = plt.subplots(1, 3, figsize=(15, 5))\n",
        "\n",
        "axes[0].plot(history['loss'], label='train')\n",
        "axes[0].plot(history['val_loss'], label='valid')\n",
        "axes[0].set_title('Loss history')\n",
        "axes[0].set_xlabel('Epoch')\n",
        "axes[0].set_ylabel('Loss')\n",
        "axes[0].grid(True)\n",
        "axes[0].legend()\n",
        "\n",
        "axes[1].plot(history['ppl'], label='train')\n",
        "axes[1].plot(history['val_ppl'], label='valid')\n",
        "axes[1].set_title('Perplexity history')\n",
        "axes[1].set_xlabel('Epoch')\n",
        "axes[1].set_ylabel('Perplexity')\n",
        "axes[1].grid(True)\n",
        "axes[1].legend()\n",
        "\n",
        "axes[2].plot(history['acc'], label='train')\n",
        "axes[2].plot(history['val_acc'], label='valid')\n",
        "axes[2].set_title('Top-5 Accuracy & BLEU-4 history')\n",
        "axes[2].set_xlabel('Epoch')\n",
        "axes[2].set_ylabel('Accuracy & BLEU-4 (%)')\n",
        "axes[2].grid(True)\n",
        "axes[2].legend()\n",
        "\n",
        "plt.show()"
      ],
      "execution_count": 17,
      "outputs": [
        {
          "output_type": "display_data",
          "data": {
            "image/png": "[encoded data removed]",
            "text/plain": [
              "<Figure size 1080x360 with 3 Axes>"
            ]
          },
          "metadata": {
            "tags": [],
            "needs_background": "light"
          }
        }
      ]
    },
    {
      "cell_type": "markdown",
      "metadata": {
        "id": "UIqN5273qP0L"
      },
      "source": [
        "## Evaluation - Beam search & BLEU score"
      ]
    },
    {
      "cell_type": "code",
      "metadata": {
        "id": "axn3AumMmkvE"
      },
      "source": [
        "from beam_utils import Node, find_best_path\n",
        "\n",
        "def evaluate(model, data, beam_size, src_field, dest_field, max_len, device):\n",
        "    src_sentences = [*map(lambda example: example.src, data.examples)]\n",
        "    dest_sentences = [*map(lambda example: example.trg, data.examples)]\n",
        "    data = [*zip([*map(lambda word_list: src_field.process([word_list]), src_sentences)],\n",
        "                 [*map(lambda word_list: dest_field.process([word_list]), dest_sentences)])]\n",
        "    references, hypotheses, sources = [], [], []\n",
        "    model.eval()\n",
        "    with torch.no_grad():\n",
        "        for i, ((src_sequence, src_length), (dest_sequence, dest_length)) in tqdm.tqdm(enumerate(data), total=len(data)):\n",
        "            src_sequence, src_length = src_sequence.to(device), src_length.to(device)\n",
        "            dest_sequence, dest_length = dest_sequence.to(device), dest_length.to(device)\n",
        "            \n",
        "            # Encoding\n",
        "            enc_outputs, h_state, mask = model.encode(src_sequence, src_length)\n",
        "\n",
        "            # Decoding\n",
        "            tree = [[Node(token=torch.LongTensor([dest_field.vocab.stoi[dest_field.init_token]]).to(device), states=(h_state,))]]\n",
        "            for _ in range(max_len):\n",
        "                next_nodes = []\n",
        "                for node in tree[-1]:\n",
        "                    if node.eos: # Skip eos token\n",
        "                        continue\n",
        "                    logit, h_state, _ = model.decoder(input_word_index=node.token,\n",
        "                                                      h_state_prev=node.states[0].contiguous(),\n",
        "                                                      enc_outputs=enc_outputs, mask=mask) # Decode\n",
        "                    logp = F.log_softmax(logit, dim=1).squeeze(dim=0) # [vocab_size] Get scores                    \n",
        "                    topk_logps, topk_tokens = torch.topk(logp, beam_size) # Get top k tokens & logps\n",
        "                    for k in range(beam_size):\n",
        "                        next_nodes.append(Node(token=topk_tokens[k, None], states=(h_state,),\n",
        "                                               logp=topk_logps[k, None].cpu().item(), parent=node,\n",
        "                                               eos=topk_tokens[k].cpu().item() == dest_field.vocab[dest_field.eos_token]))\n",
        "                if len(next_nodes) == 0:\n",
        "                    break\n",
        "                next_nodes = sorted(next_nodes, key=lambda node: node.logps, reverse=True) # Sort next_nodes to get the best\n",
        "                tree.append(next_nodes[:beam_size]) # Update the tree\n",
        "                \n",
        "            best_path = find_best_path(tree) # Find the best path of the tree\n",
        "\n",
        "            # Get the translation\n",
        "            pred_translated = [*map(lambda node: dest_field.vocab.itos[node.token], best_path)]\n",
        "            pred_translated = [*filter(lambda word: word not in [dest_field.init_token, dest_field.eos_token], pred_translated[::-1])]\n",
        "\n",
        "            hypotheses.append(pred_translated) # Update hypotheses\n",
        "\n",
        "            # Update references\n",
        "            references.append([[dest_field.vocab.itos[indice] for indice in dest_sequence if indice not in (\n",
        "                dest_field.vocab.stoi[dest_field.init_token],\n",
        "                dest_field.vocab.stoi[dest_field.eos_token],\n",
        "                dest_field.vocab.stoi[dest_field.pad_token]\n",
        "            )]])\n",
        "\n",
        "            # Update sources\n",
        "            sources.append([src_field.vocab.itos[indice]  for indice in src_sequence  if indice not in (\n",
        "                src_field.vocab.stoi[src_field.init_token],\n",
        "                src_field.vocab.stoi[src_field.eos_token],\n",
        "                src_field.vocab.stoi[src_field.pad_token]\n",
        "            )])\n",
        "    \n",
        "        assert len(hypotheses) == len(references) == len(sources)\n",
        "        bleu4 = bleu_score(hypotheses, references, max_n=4, weights=[0.25, 0.25, 0.25, 0.25]) # Calculate BLEU-4 score\n",
        "    return hypotheses, references, sources, bleu4"
      ],
      "execution_count": 19,
      "outputs": []
    },
    {
      "cell_type": "code",
      "metadata": {
        "id": "g-lc-nLat-gI",
        "outputId": "e1fbeb0c-ce89-4784-d8bd-88f86bc6d6fb",
        "colab": {
          "base_uri": "https://localhost:8080/",
          "height": 323
        }
      },
      "source": [
        "seq2seq.load_state_dict(torch.load('seq2seq-badhanau-attn.pth'))\n",
        "seq2seq.to(DEVICE)"
      ],
      "execution_count": 20,
      "outputs": [
        {
          "output_type": "execute_result",
          "data": {
            "text/plain": [
              "SeqToSeqNet(\n",
              "  (encoder): EncoderLayer(\n",
              "    (embedding): Embedding(7852, 300)\n",
              "    (gru): GRU(300, 256, num_layers=2, dropout=0.25, bidirectional=True)\n",
              "  )\n",
              "  (decoder): DecoderLayer(\n",
              "    (attention_layer): BadhanauAttnLayer(\n",
              "      (fc): Linear(in_features=2, out_features=1, bias=True)\n",
              "      (W1): Linear(in_features=512, out_features=256, bias=True)\n",
              "      (W2): Linear(in_features=256, out_features=256, bias=True)\n",
              "      (V): Linear(in_features=256, out_features=1, bias=True)\n",
              "    )\n",
              "    (embedding): Embedding(5893, 300)\n",
              "    (gru): GRU(812, 256, num_layers=2, dropout=0.25)\n",
              "    (fc): Linear(in_features=256, out_features=5893, bias=True)\n",
              "  )\n",
              "  (init_h0): Linear(in_features=4, out_features=2, bias=True)\n",
              ")"
            ]
          },
          "metadata": {
            "tags": []
          },
          "execution_count": 20
        }
      ]
    },
    {
      "cell_type": "code",
      "metadata": {
        "id": "SULpWumNtgxg",
        "outputId": "8c21a37f-30f8-4f09-f2fb-83a48f6b5d46",
        "colab": {
          "base_uri": "https://localhost:8080/",
          "height": 221
        }
      },
      "source": [
        "bleu_scores = []\n",
        "for beam_size in [1, 3, 5]:\n",
        "    for name, data in [('validation', valid_data), ('test', test_data)]:\n",
        "        _, _, _, bleu4 = evaluate(model=seq2seq, data=data, beam_size=beam_size, src_field=DE, dest_field=EN, max_len=50, device=DEVICE)\n",
        "        bleu_scores.append((beam_size, name, bleu4))\n",
        "        \n",
        "for score in bleu_scores:\n",
        "    print(f'BLEU-4: {score[2]*100:.3f}% with beam_size={score[0]} on {score[1]} data')"
      ],
      "execution_count": 21,
      "outputs": [
        {
          "output_type": "stream",
          "text": [
            "100%|██████████| 1014/1014 [00:17<00:00, 56.84it/s]\n",
            "100%|██████████| 1000/1000 [00:17<00:00, 57.94it/s]\n",
            "100%|██████████| 1014/1014 [01:41<00:00, 10.01it/s]\n",
            "100%|██████████| 1000/1000 [01:38<00:00, 10.14it/s]\n",
            "100%|██████████| 1014/1014 [03:12<00:00,  5.28it/s]\n",
            "100%|██████████| 1000/1000 [03:06<00:00,  5.36it/s]\n"
          ],
          "name": "stderr"
        },
        {
          "output_type": "stream",
          "text": [
            "BLEU-4: 24.894% with beam_size=1 on validation data\n",
            "BLEU-4: 24.983% with beam_size=1 on test data\n",
            "BLEU-4: 25.701% with beam_size=3 on validation data\n",
            "BLEU-4: 26.597% with beam_size=3 on test data\n",
            "BLEU-4: 25.770% with beam_size=5 on validation data\n",
            "BLEU-4: 26.105% with beam_size=5 on test data\n"
          ],
          "name": "stdout"
        }
      ]
    },
    {
      "cell_type": "markdown",
      "metadata": {
        "id": "CQvQiVINwb_e"
      },
      "source": [
        "## Inference"
      ]
    },
    {
      "cell_type": "code",
      "metadata": {
        "id": "euSkrQikvFU4"
      },
      "source": [
        "def translate(sentences, model, beam_size, src_field, dest_field, max_len, device):\n",
        "    if isinstance(sentences, list):\n",
        "        sentences = [*map(src_field.preprocess, sentences)]\n",
        "        targets = None\n",
        "    if isinstance(sentences, Dataset):\n",
        "        targets = [*map(lambda example: ' '.join(example.trg), sentences.examples)]\n",
        "        sentences = [*map(lambda example: example.src, sentences.examples)]\n",
        "    data = [*map(lambda word_list: src_field.process([word_list]), sentences)]\n",
        "    translated_sentences, attention_weights, pred_logps = [], [], []\n",
        "    model.eval()\n",
        "    with torch.no_grad():\n",
        "        for i, (src_sequence, src_length) in tqdm.tqdm(enumerate(data), total=len(data)):\n",
        "            src_sequence, src_length = src_sequence.to(device), src_length.to(device)\n",
        "            enc_outputs, h_state, mask = model.encode(src_sequence, src_length)\n",
        "            tree = [[Node(token=torch.LongTensor([dest_field.vocab.stoi[dest_field.init_token]]).to(device), states=(h_state,))]]\n",
        "            for _ in range(max_len):\n",
        "                next_nodes = []\n",
        "                for node in tree[-1]:\n",
        "                    if node.eos: # Skip eos token\n",
        "                        continue\n",
        "                    logit, h_state, attn_weights = model.decoder(input_word_index=node.token,\n",
        "                                                   h_state_prev=node.states[0].contiguous(),\n",
        "                                                   enc_outputs=enc_outputs, mask=mask)\n",
        "                    logp = F.log_softmax(logit, dim=1).squeeze(dim=0)                   \n",
        "                    topk_logps, topk_tokens = torch.topk(logp, beam_size)\n",
        "                    for k in range(beam_size):\n",
        "                        next_nodes.append(Node(token=topk_tokens[k, None], states=(h_state, attn_weights),\n",
        "                                               logp=topk_logps[k, None].cpu().item(), parent=node,\n",
        "                                               eos=topk_tokens[k].cpu().item() == dest_field.vocab[dest_field.eos_token]))\n",
        "                if len(next_nodes) == 0:\n",
        "                    break\n",
        "                next_nodes = sorted(next_nodes, key=lambda node: node.logps, reverse=True)\n",
        "                tree.append(next_nodes[:beam_size])\n",
        "            best_path = find_best_path(tree)[::-1]\n",
        "            # Get the translation\n",
        "            pred_translated = [*map(lambda node: dest_field.vocab.itos[node.token], best_path)]\n",
        "            pred_translated = [*filter(lambda word: word not in [\n",
        "                dest_field.init_token, dest_field.eos_token\n",
        "            ], pred_translated)]\n",
        "            translated_sentences.append(' '.join(pred_translated))\n",
        "            # Get probabilities\n",
        "            pred_logps.append(sum([*map(lambda node: node.logps, best_path)]))\n",
        "            # Get attention weights\n",
        "            attention_weights.append(torch.cat([*map(lambda node: node.states[1], best_path[1:])], dim=-1).cpu().numpy())\n",
        "        sentences = [*map(lambda sentence: ' '.join(sentence), sentences)]\n",
        "    return sentences, translated_sentences, targets, attention_weights, pred_logps"
      ],
      "execution_count": 23,
      "outputs": []
    },
    {
      "cell_type": "code",
      "metadata": {
        "id": "8WsuKDCmfB6n"
      },
      "source": [
        "def plot_attention(src, trg, scores):\n",
        "    fig, ax = plt.subplots()\n",
        "    heatmap = ax.pcolor(scores, cmap='viridis')\n",
        "\n",
        "    ax.set_xticklabels(trg.split(), minor=False, rotation='vertical')\n",
        "    ax.set_yticklabels(src.split(), minor=False)\n",
        "\n",
        "    # put the major ticks at the middle of each cell\n",
        "    # and the x-ticks on top\n",
        "    ax.xaxis.tick_top()\n",
        "    ax.set_xticks(np.arange(scores.shape[1]) + 0.5, minor=False)\n",
        "    ax.set_yticks(np.arange(scores.shape[0]) + 0.5, minor=False)\n",
        "    ax.invert_yaxis()\n",
        "\n",
        "    plt.colorbar(heatmap)\n",
        "    plt.show()"
      ],
      "execution_count": 24,
      "outputs": []
    },
    {
      "cell_type": "code",
      "metadata": {
        "id": "uA8qEvYtzZn0",
        "outputId": "9062a852-57a5-4b13-98a9-bf9f864bf83d",
        "colab": {
          "base_uri": "https://localhost:8080/",
          "height": 1000
        }
      },
      "source": [
        "sentences, translated_sentences, dest_sentences, attention_weights, pred_logps = translate(sentences=test_data, model=seq2seq, beam_size=5, src_field=DE,\n",
        "                                                                                           dest_field=EN, max_len=50, device=DEVICE)\n",
        "indexes = np.random.choice(len(test_data.examples), size=10, replace=False)\n",
        "print(indexes)\n",
        "print()\n",
        "for i in indexes:\n",
        "    html = f'<p><span style=\"color:blue\"><b>Source:</b> {sentences[i]}</span><br />'\n",
        "    html += f'<span style=\"color:green\"><b>Ground truth translation:</b> {dest_sentences[i]}</span><br />'\n",
        "    html += f'<span style=\"color:red\"><b>Predicted translation:</b> {translated_sentences[i]}</span></p>'\n",
        "    display(HTML(html))\n",
        "    plot_attention(sentences[i], translated_sentences[i], attention_weights[i])\n",
        "    print('='*100)"
      ],
      "execution_count": 25,
      "outputs": [
        {
          "output_type": "stream",
          "text": [
            "100%|██████████| 1000/1000 [03:02<00:00,  5.47it/s]"
          ],
          "name": "stderr"
        },
        {
          "output_type": "stream",
          "text": [
            "[251 747 668 641 838 713  90 987 169 875]\n",
            "\n"
          ],
          "name": "stdout"
        },
        {
          "output_type": "stream",
          "text": [
            "\n"
          ],
          "name": "stderr"
        },
        {
          "output_type": "display_data",
          "data": {
            "text/html": [
              "<p><span style=\"color:blue\"><b>Source:</b> ein glatzköpfiger mann demonstriert , wie hoch sein braun-schwarzer hund springen kann .</span><br /><span style=\"color:green\"><b>Ground truth translation:</b> a bald man demonstarting how high his brown and black dog can jump .</span><br /><span style=\"color:red\"><b>Predicted translation:</b> a bald man is his his over his his brown dog .</span></p>"
            ],
            "text/plain": [
              "<IPython.core.display.HTML object>"
            ]
          },
          "metadata": {
            "tags": []
          }
        },
        {
          "output_type": "display_data",
          "data": {
            "image/png": "[encoded data removed]",
            "text/plain": [
              "<Figure size 432x288 with 2 Axes>"
            ]
          },
          "metadata": {
            "tags": [],
            "needs_background": "light"
          }
        },
        {
          "output_type": "stream",
          "text": [
            "====================================================================================================\n"
          ],
          "name": "stdout"
        },
        {
          "output_type": "display_data",
          "data": {
            "text/html": [
              "<p><span style=\"color:blue\"><b>Source:</b> eine frau in einem roten rock geht auf der straße mit graffiti im hintergrund .</span><br /><span style=\"color:green\"><b>Ground truth translation:</b> a woman in a red skirt is walking on the street with graffiti in the background .</span><br /><span style=\"color:red\"><b>Predicted translation:</b> a woman in a red skirt is walking in the street with the background .</span></p>"
            ],
            "text/plain": [
              "<IPython.core.display.HTML object>"
            ]
          },
          "metadata": {
            "tags": []
          }
        },
        {
          "output_type": "display_data",
          "data": {
            "image/png": "[encoded data removed]",
            "text/plain": [
              "<Figure size 432x288 with 2 Axes>"
            ]
          },
          "metadata": {
            "tags": [],
            "needs_background": "light"
          }
        },
        {
          "output_type": "stream",
          "text": [
            "====================================================================================================\n"
          ],
          "name": "stdout"
        },
        {
          "output_type": "display_data",
          "data": {
            "text/html": [
              "<p><span style=\"color:blue\"><b>Source:</b> ein mann fährt auf einer straße skateboard während ihm ein anderer mann vom gehsteig aus zusieht .</span><br /><span style=\"color:green\"><b>Ground truth translation:</b> a man is skateboarding on a road while another man watches from the sidewalk .</span><br /><span style=\"color:red\"><b>Predicted translation:</b> a man is riding a skateboard on a street while another man watches him .</span></p>"
            ],
            "text/plain": [
              "<IPython.core.display.HTML object>"
            ]
          },
          "metadata": {
            "tags": []
          }
        },
        {
          "output_type": "display_data",
          "data": {
            "image/png": "[encoded data removed]",
            "text/plain": [
              "<Figure size 432x288 with 2 Axes>"
            ]
          },
          "metadata": {
            "tags": [],
            "needs_background": "light"
          }
        },
        {
          "output_type": "stream",
          "text": [
            "====================================================================================================\n"
          ],
          "name": "stdout"
        },
        {
          "output_type": "display_data",
          "data": {
            "text/html": [
              "<p><span style=\"color:blue\"><b>Source:</b> eine straße bei einer ampel mit mehreren personen , darunter ein mann in einem braunen mantel und sonnenbrille , der seine hand ans gesicht hält .</span><br /><span style=\"color:green\"><b>Ground truth translation:</b> a street near a stoplight with several people including a man wearing a brown coat and sunglasses with his hand to his face .</span><br /><span style=\"color:red\"><b>Predicted translation:</b> a closeup at a camera with with several people , a man in a black jacket and and a coat .</span></p>"
            ],
            "text/plain": [
              "<IPython.core.display.HTML object>"
            ]
          },
          "metadata": {
            "tags": []
          }
        },
        {
          "output_type": "display_data",
          "data": {
            "image/png": "[encoded data removed]",
            "text/plain": [
              "<Figure size 432x288 with 2 Axes>"
            ]
          },
          "metadata": {
            "tags": [],
            "needs_background": "light"
          }
        },
        {
          "output_type": "stream",
          "text": [
            "====================================================================================================\n"
          ],
          "name": "stdout"
        },
        {
          "output_type": "display_data",
          "data": {
            "text/html": [
              "<p><span style=\"color:blue\"><b>Source:</b> ein junger mann mit langen haaren fährt an einem bewölkten tag skateboard auf dem geländer .</span><br /><span style=\"color:green\"><b>Ground truth translation:</b> a long - haired young man skateboarding on the rails on a cloudy day .</span><br /><span style=\"color:red\"><b>Predicted translation:</b> a young man with long hair is riding a skateboard on a sunny day .</span></p>"
            ],
            "text/plain": [
              "<IPython.core.display.HTML object>"
            ]
          },
          "metadata": {
            "tags": []
          }
        },
        {
          "output_type": "display_data",
          "data": {
            "image/png": "[encoded data removed]",
            "text/plain": [
              "<Figure size 432x288 with 2 Axes>"
            ]
          },
          "metadata": {
            "tags": [],
            "needs_background": "light"
          }
        },
        {
          "output_type": "stream",
          "text": [
            "====================================================================================================\n"
          ],
          "name": "stdout"
        },
        {
          "output_type": "display_data",
          "data": {
            "text/html": [
              "<p><span style=\"color:blue\"><b>Source:</b> ein kleines mädchen blickt durch ein teleskop auf den strand .</span><br /><span style=\"color:green\"><b>Ground truth translation:</b> a little girl is looking through a telescope at the beach .</span><br /><span style=\"color:red\"><b>Predicted translation:</b> a little girl looks through a telescope through the beach .</span></p>"
            ],
            "text/plain": [
              "<IPython.core.display.HTML object>"
            ]
          },
          "metadata": {
            "tags": []
          }
        },
        {
          "output_type": "display_data",
          "data": {
            "image/png": "[encoded data removed]",
            "text/plain": [
              "<Figure size 432x288 with 2 Axes>"
            ]
          },
          "metadata": {
            "tags": [],
            "needs_background": "light"
          }
        },
        {
          "output_type": "stream",
          "text": [
            "====================================================================================================\n"
          ],
          "name": "stdout"
        },
        {
          "output_type": "display_data",
          "data": {
            "text/html": [
              "<p><span style=\"color:blue\"><b>Source:</b> eine schwarz gekleidete frau mit rosa haaren spricht mit einem mann .</span><br /><span style=\"color:green\"><b>Ground truth translation:</b> a woman with pink hair dressed in black talks to a man .</span><br /><span style=\"color:red\"><b>Predicted translation:</b> a woman with black hair with pink hair talking to a man .</span></p>"
            ],
            "text/plain": [
              "<IPython.core.display.HTML object>"
            ]
          },
          "metadata": {
            "tags": []
          }
        },
        {
          "output_type": "display_data",
          "data": {
            "image/png": "[encoded data removed]",
            "text/plain": [
              "<Figure size 432x288 with 2 Axes>"
            ]
          },
          "metadata": {
            "tags": [],
            "needs_background": "light"
          }
        },
        {
          "output_type": "stream",
          "text": [
            "====================================================================================================\n"
          ],
          "name": "stdout"
        },
        {
          "output_type": "display_data",
          "data": {
            "text/html": [
              "<p><span style=\"color:blue\"><b>Source:</b> zwei kinder in gestreiften sweatern und schwarzen hosen rangeln im freien neben einem spielplatz .</span><br /><span style=\"color:green\"><b>Ground truth translation:</b> two children wearing striped sweaters and black pants tussle outdoors near a play set .</span><br /><span style=\"color:red\"><b>Predicted translation:</b> two children in striped shirts and black pants are outside next to a pool .</span></p>"
            ],
            "text/plain": [
              "<IPython.core.display.HTML object>"
            ]
          },
          "metadata": {
            "tags": []
          }
        },
        {
          "output_type": "display_data",
          "data": {
            "image/png": "[encoded data removed]",
            "text/plain": [
              "<Figure size 432x288 with 2 Axes>"
            ]
          },
          "metadata": {
            "tags": [],
            "needs_background": "light"
          }
        },
        {
          "output_type": "stream",
          "text": [
            "====================================================================================================\n"
          ],
          "name": "stdout"
        },
        {
          "output_type": "display_data",
          "data": {
            "text/html": [
              "<p><span style=\"color:blue\"><b>Source:</b> eine frau und ein kind umarmen sich während das kind kostet , was sie gerade gemeinsam zubereiten .</span><br /><span style=\"color:green\"><b>Ground truth translation:</b> a woman and a child embrace while the child tastes what they have been making .</span><br /><span style=\"color:red\"><b>Predicted translation:</b> a woman and child child to child child child child to be their <unk> .</span></p>"
            ],
            "text/plain": [
              "<IPython.core.display.HTML object>"
            ]
          },
          "metadata": {
            "tags": []
          }
        },
        {
          "output_type": "display_data",
          "data": {
            "image/png": "[encoded data removed]",
            "text/plain": [
              "<Figure size 432x288 with 2 Axes>"
            ]
          },
          "metadata": {
            "tags": [],
            "needs_background": "light"
          }
        },
        {
          "output_type": "stream",
          "text": [
            "====================================================================================================\n"
          ],
          "name": "stdout"
        },
        {
          "output_type": "display_data",
          "data": {
            "text/html": [
              "<p><span style=\"color:blue\"><b>Source:</b> eine band mit dezent in blau gekleideten bandmitgliedern steht auf der bühne .</span><br /><span style=\"color:green\"><b>Ground truth translation:</b> there is a band on stage with band members wearing hints of blue .</span><br /><span style=\"color:red\"><b>Predicted translation:</b> a band band with blue and blue stands on stage .</span></p>"
            ],
            "text/plain": [
              "<IPython.core.display.HTML object>"
            ]
          },
          "metadata": {
            "tags": []
          }
        },
        {
          "output_type": "display_data",
          "data": {
            "image/png": "[encoded data removed]",
            "text/plain": [
              "<Figure size 432x288 with 2 Axes>"
            ]
          },
          "metadata": {
            "tags": [],
            "needs_background": "light"
          }
        },
        {
          "output_type": "stream",
          "text": [
            "====================================================================================================\n"
          ],
          "name": "stdout"
        }
      ]
    },
    {
      "cell_type": "markdown",
      "metadata": {
        "id": "trGPrnTLwe4E"
      },
      "source": [
        "## Error Analysis"
      ]
    },
    {
      "cell_type": "code",
      "metadata": {
        "id": "hvnjiHv_whVk"
      },
      "source": [
        "def get_dest_logp(model, data, src_field, dest_field, device):\n",
        "    dest_logps = []\n",
        "    model.eval()\n",
        "    with torch.no_grad():\n",
        "        for i, data in tqdm.tqdm(enumerate(data), total=len(data)):\n",
        "            src_sequence, src_length = src_field.process([data.src])\n",
        "            dest_sequence, dest_length = dest_field.process([data.trg])\n",
        "            src_sequence, src_length = src_sequence.to(device), src_length.to(device)\n",
        "            dest_sequence, dest_length = dest_sequence.to(device), dest_length.to(device)\n",
        "            enc_outputs, h_state, mask = model.encode(src_sequence, src_length)\n",
        "            logps = []\n",
        "            input_word_index = torch.LongTensor([dest_field.vocab.stoi[dest_field.init_token]]).to(device)\n",
        "            for idx in range(dest_sequence.shape[0]):\n",
        "                logit, h_state, _ = model.decoder(input_word_index=input_word_index, h_state_prev=h_state.contiguous(), enc_outputs=enc_outputs, mask=mask)\n",
        "                logp = F.log_softmax(logit, dim=1).squeeze(dim=0)\n",
        "                input_word_index = dest_sequence[idx]\n",
        "                logps.append(logp[input_word_index].cpu().item()) # Get logp of ground truth ouput\n",
        "            dest_logps.append(sum(logps))\n",
        "    return dest_logps"
      ],
      "execution_count": 26,
      "outputs": []
    },
    {
      "cell_type": "code",
      "metadata": {
        "id": "i67U1RSa0Qc5",
        "outputId": "860c703b-7070-4b8a-d4f7-a22a983e2fc6",
        "colab": {
          "base_uri": "https://localhost:8080/",
          "height": 34
        }
      },
      "source": [
        "dest_logps = get_dest_logp(model=seq2seq, data=test_data, src_field=DE, dest_field=EN, device=DEVICE)\n",
        "assert len(pred_logps) == len(dest_logps) == len(test_data), f'{len(pred_logps)}, {len(dest_logps)}, {len(test_data)}'"
      ],
      "execution_count": 27,
      "outputs": [
        {
          "output_type": "stream",
          "text": [
            "100%|██████████| 1000/1000 [00:14<00:00, 70.47it/s]\n"
          ],
          "name": "stderr"
        }
      ]
    },
    {
      "cell_type": "code",
      "metadata": {
        "id": "kfH2LWDe0VQ6",
        "outputId": "c54b5a4a-7ab6-41ec-b100-7d8cfbc56528",
        "colab": {
          "base_uri": "https://localhost:8080/",
          "height": 51
        }
      },
      "source": [
        "beam_search_faults = np.array(dest_logps) > np.array(pred_logps)\n",
        "\n",
        "beam_search_fault_rate = beam_search_faults.sum() / beam_search_faults.size\n",
        "print(f'Beam search fault rate: {beam_search_fault_rate * 100:.3f}%')\n",
        "print(f'Model fault rate: {(1 - beam_search_fault_rate) * 100:.3f}%')"
      ],
      "execution_count": 28,
      "outputs": [
        {
          "output_type": "stream",
          "text": [
            "Beam search fault rate: 52.500%\n",
            "Model fault rate: 47.500%\n"
          ],
          "name": "stdout"
        }
      ]
    },
    {
      "cell_type": "code",
      "metadata": {
        "id": "2WbEkuNz0dgK"
      },
      "source": [
        "beam_search_fault_indexes = np.where(beam_search_faults == True)[0]\n",
        "model_fault_indexes = np.where(beam_search_faults == False)[0]"
      ],
      "execution_count": 29,
      "outputs": []
    },
    {
      "cell_type": "code",
      "metadata": {
        "id": "sf2uMsUb0ifT",
        "outputId": "64557e4d-6037-4f5e-e4d0-8ddcc14142c0",
        "colab": {
          "base_uri": "https://localhost:8080/",
          "height": 417
        }
      },
      "source": [
        "for i in np.random.choice(beam_search_fault_indexes, size=5, replace=False):\n",
        "    html = f'<p><span><b>Source:</b> {sentences[i]}</span><br />'\n",
        "    html += f'<span style=\"color:green\"><b>Ground truth translation:</b> {dest_sentences[i]}</span><br />'\n",
        "    html += f'<span style=\"color:red\"><b>Predicted translation (Beam search fault):</b> {translated_sentences[i]}</span><br />'\n",
        "    display(HTML(html))\n",
        "    print('='*100)"
      ],
      "execution_count": 30,
      "outputs": [
        {
          "output_type": "display_data",
          "data": {
            "text/html": [
              "<p><span><b>Source:</b> ein junge im vordergrund blickt über andere personen auf einem platz .</span><br /><span style=\"color:green\"><b>Ground truth translation:</b> a boy standing in the foreground looking out over other people in a court .</span><br /><span style=\"color:red\"><b>Predicted translation (Beam search fault):</b> a young boy in the back looking at some people in a plaza .</span><br />"
            ],
            "text/plain": [
              "<IPython.core.display.HTML object>"
            ]
          },
          "metadata": {
            "tags": []
          }
        },
        {
          "output_type": "stream",
          "text": [
            "====================================================================================================\n"
          ],
          "name": "stdout"
        },
        {
          "output_type": "display_data",
          "data": {
            "text/html": [
              "<p><span><b>Source:</b> fußballer springen in die luft , um den ball mit dem kopf zu treffen .</span><br /><span style=\"color:green\"><b>Ground truth translation:</b> soccer players are jumping in the air to hit the ball with their heads .</span><br /><span style=\"color:red\"><b>Predicted translation (Beam search fault):</b> they jumping into the air with the ball with his ball .</span><br />"
            ],
            "text/plain": [
              "<IPython.core.display.HTML object>"
            ]
          },
          "metadata": {
            "tags": []
          }
        },
        {
          "output_type": "stream",
          "text": [
            "====================================================================================================\n"
          ],
          "name": "stdout"
        },
        {
          "output_type": "display_data",
          "data": {
            "text/html": [
              "<p><span><b>Source:</b> zwei kinder , ein junge in einem gelben shirt und ein mädchen in blau-weiß gestreiften klamotten , schaukeln .</span><br /><span style=\"color:green\"><b>Ground truth translation:</b> two children , a boy in a yellow shirt and a girl in blue and white stripes , swinging .</span><br /><span style=\"color:red\"><b>Predicted translation (Beam search fault):</b> two children , one in a yellow shirt and one girl in a striped shirt shirt is jumping .</span><br />"
            ],
            "text/plain": [
              "<IPython.core.display.HTML object>"
            ]
          },
          "metadata": {
            "tags": []
          }
        },
        {
          "output_type": "stream",
          "text": [
            "====================================================================================================\n"
          ],
          "name": "stdout"
        },
        {
          "output_type": "display_data",
          "data": {
            "text/html": [
              "<p><span><b>Source:</b> ein mann geht auf einer kopfsteinstraße neben gebäuden mit roten dachtraufen .</span><br /><span style=\"color:green\"><b>Ground truth translation:</b> a man walks down a cobblestone street next to buildings painted tan with red eaves .</span><br /><span style=\"color:red\"><b>Predicted translation (Beam search fault):</b> a man is walking on a <unk> wall next to some <unk> of <unk> .</span><br />"
            ],
            "text/plain": [
              "<IPython.core.display.HTML object>"
            ]
          },
          "metadata": {
            "tags": []
          }
        },
        {
          "output_type": "stream",
          "text": [
            "====================================================================================================\n"
          ],
          "name": "stdout"
        },
        {
          "output_type": "display_data",
          "data": {
            "text/html": [
              "<p><span><b>Source:</b> vor einem gebäude sieht ein uniformierter sicherheitsbeamter hinter einem zaun in die kamera .</span><br /><span style=\"color:green\"><b>Ground truth translation:</b> outside a building , a uniformed security guard looks at the camera from behind a fence .</span><br /><span style=\"color:red\"><b>Predicted translation (Beam search fault):</b> a photo in front of a building behind a building behind a fence .</span><br />"
            ],
            "text/plain": [
              "<IPython.core.display.HTML object>"
            ]
          },
          "metadata": {
            "tags": []
          }
        },
        {
          "output_type": "stream",
          "text": [
            "====================================================================================================\n"
          ],
          "name": "stdout"
        }
      ]
    },
    {
      "cell_type": "code",
      "metadata": {
        "id": "2g-up77J0lN3",
        "outputId": "aa6c82e1-6db7-416c-ccfb-f799ba68b9d6",
        "colab": {
          "base_uri": "https://localhost:8080/",
          "height": 417
        }
      },
      "source": [
        "for i in np.random.choice(model_fault_indexes, size=5, replace=False):\n",
        "    html = f'<p><span><b>Source:</b> {sentences[i]}</span><br />'\n",
        "    html += f'<span style=\"color:green\"><b>Ground truth translation:</b> {dest_sentences[i]}</span><br />'\n",
        "    html += f'<span style=\"color:blue\"><b>Predicted translation (Model fault):</b> {translated_sentences[i]}</span><br />'\n",
        "    display(HTML(html))\n",
        "    print('='*100)"
      ],
      "execution_count": 31,
      "outputs": [
        {
          "output_type": "display_data",
          "data": {
            "text/html": [
              "<p><span><b>Source:</b> ein läufer in einem blauen shirt mit einer aufgeklebten nummer .</span><br /><span style=\"color:green\"><b>Ground truth translation:</b> man running wearing a blue shirt with a number taped to it .</span><br /><span style=\"color:blue\"><b>Predicted translation (Model fault):</b> a runner in a blue shirt with a <unk> <unk> .</span><br />"
            ],
            "text/plain": [
              "<IPython.core.display.HTML object>"
            ]
          },
          "metadata": {
            "tags": []
          }
        },
        {
          "output_type": "stream",
          "text": [
            "====================================================================================================\n"
          ],
          "name": "stdout"
        },
        {
          "output_type": "display_data",
          "data": {
            "text/html": [
              "<p><span><b>Source:</b> eine ältere dame in einem grünen sweatshirt wählt gemüse aus .</span><br /><span style=\"color:green\"><b>Ground truth translation:</b> an older lady in a green sweater picks out vegetables .</span><br /><span style=\"color:blue\"><b>Predicted translation (Model fault):</b> an elderly lady in a green coat is shopping vegetables .</span><br />"
            ],
            "text/plain": [
              "<IPython.core.display.HTML object>"
            ]
          },
          "metadata": {
            "tags": []
          }
        },
        {
          "output_type": "stream",
          "text": [
            "====================================================================================================\n"
          ],
          "name": "stdout"
        },
        {
          "output_type": "display_data",
          "data": {
            "text/html": [
              "<p><span><b>Source:</b> eine gruppe von studenten sitzt und hört der sprecherin zu .</span><br /><span style=\"color:green\"><b>Ground truth translation:</b> a group of students sit and listen to the speaker .</span><br /><span style=\"color:blue\"><b>Predicted translation (Model fault):</b> a group of students sitting and listening to music .</span><br />"
            ],
            "text/plain": [
              "<IPython.core.display.HTML object>"
            ]
          },
          "metadata": {
            "tags": []
          }
        },
        {
          "output_type": "stream",
          "text": [
            "====================================================================================================\n"
          ],
          "name": "stdout"
        },
        {
          "output_type": "display_data",
          "data": {
            "text/html": [
              "<p><span><b>Source:</b> eine person in einer roten jacke und schwarzen hosen hält regenbogenbänder .</span><br /><span style=\"color:green\"><b>Ground truth translation:</b> a person in a red jacket with black pants holding rainbow ribbons .</span><br /><span style=\"color:blue\"><b>Predicted translation (Model fault):</b> a person in a red jacket and black pants is holding <unk> .</span><br />"
            ],
            "text/plain": [
              "<IPython.core.display.HTML object>"
            ]
          },
          "metadata": {
            "tags": []
          }
        },
        {
          "output_type": "stream",
          "text": [
            "====================================================================================================\n"
          ],
          "name": "stdout"
        },
        {
          "output_type": "display_data",
          "data": {
            "text/html": [
              "<p><span><b>Source:</b> mehrere menschen essen an einem picknicktisch im park .</span><br /><span style=\"color:green\"><b>Ground truth translation:</b> multiple people in a park eating at a picnic table</span><br /><span style=\"color:blue\"><b>Predicted translation (Model fault):</b> several people eating at a park in a park .</span><br />"
            ],
            "text/plain": [
              "<IPython.core.display.HTML object>"
            ]
          },
          "metadata": {
            "tags": []
          }
        },
        {
          "output_type": "stream",
          "text": [
            "====================================================================================================\n"
          ],
          "name": "stdout"
        }
      ]
    },
    {
      "cell_type": "code",
      "metadata": {
        "id": "bXdvOQPq0oid",
        "outputId": "f157c5ae-3c87-4485-a4c8-8b122a77c230",
        "colab": {
          "base_uri": "https://localhost:8080/",
          "height": 336
        }
      },
      "source": [
        "lengths = np.array([*map(len, dest_sentences)])\n",
        "\n",
        "_, axes = plt.subplots(1, 2, figsize=(12, 5))\n",
        "axes[0].hist(lengths[beam_search_fault_indexes])\n",
        "axes[0].set_title('Lengths of beam search faults')\n",
        "axes[0].grid(True)\n",
        "axes[1].hist(lengths[model_fault_indexes])\n",
        "axes[1].set_title('Lengths of model faults')\n",
        "axes[1].grid(True)\n",
        "plt.show()"
      ],
      "execution_count": 32,
      "outputs": [
        {
          "output_type": "display_data",
          "data": {
            "image/png": "[encoded data removed]",
            "text/plain": [
              "<Figure size 864x360 with 2 Axes>"
            ]
          },
          "metadata": {
            "tags": [],
            "needs_background": "light"
          }
        }
      ]
    },
    {
      "cell_type": "code",
      "metadata": {
        "id": "ghVLDRbW0u9Y"
      },
      "source": [
        ""
      ],
      "execution_count": null,
      "outputs": []
    }
  ]
}